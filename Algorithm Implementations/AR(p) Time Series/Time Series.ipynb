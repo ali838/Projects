{
 "cells": [
  {
   "cell_type": "code",
   "execution_count": 1,
   "metadata": {},
   "outputs": [],
   "source": [
    "import numpy as np\n",
    "import pandas as pd\n",
    "import matplotlib.pyplot as plt\n",
    "import statistics\n",
    "from datetime import datetime"
   ]
  },
  {
   "cell_type": "code",
   "execution_count": 2,
   "metadata": {},
   "outputs": [
    {
     "data": {
      "text/html": [
       "<div>\n",
       "<style scoped>\n",
       "    .dataframe tbody tr th:only-of-type {\n",
       "        vertical-align: middle;\n",
       "    }\n",
       "\n",
       "    .dataframe tbody tr th {\n",
       "        vertical-align: top;\n",
       "    }\n",
       "\n",
       "    .dataframe thead th {\n",
       "        text-align: right;\n",
       "    }\n",
       "</style>\n",
       "<table border=\"1\" class=\"dataframe\">\n",
       "  <thead>\n",
       "    <tr style=\"text-align: right;\">\n",
       "      <th></th>\n",
       "      <th>Date</th>\n",
       "      <th>Open</th>\n",
       "      <th>High</th>\n",
       "      <th>Low</th>\n",
       "      <th>Close</th>\n",
       "      <th>Adj Close</th>\n",
       "      <th>Volume</th>\n",
       "    </tr>\n",
       "  </thead>\n",
       "  <tbody>\n",
       "    <tr>\n",
       "      <th>0</th>\n",
       "      <td>2015-06-12</td>\n",
       "      <td>128.190002</td>\n",
       "      <td>128.330002</td>\n",
       "      <td>127.110001</td>\n",
       "      <td>127.169998</td>\n",
       "      <td>117.200966</td>\n",
       "      <td>36886200</td>\n",
       "    </tr>\n",
       "    <tr>\n",
       "      <th>1</th>\n",
       "      <td>2015-06-15</td>\n",
       "      <td>126.099998</td>\n",
       "      <td>127.239998</td>\n",
       "      <td>125.709999</td>\n",
       "      <td>126.919998</td>\n",
       "      <td>116.970581</td>\n",
       "      <td>43988900</td>\n",
       "    </tr>\n",
       "    <tr>\n",
       "      <th>2</th>\n",
       "      <td>2015-06-16</td>\n",
       "      <td>127.029999</td>\n",
       "      <td>127.849998</td>\n",
       "      <td>126.370003</td>\n",
       "      <td>127.599998</td>\n",
       "      <td>117.597267</td>\n",
       "      <td>31494100</td>\n",
       "    </tr>\n",
       "    <tr>\n",
       "      <th>3</th>\n",
       "      <td>2015-06-17</td>\n",
       "      <td>127.720001</td>\n",
       "      <td>127.879997</td>\n",
       "      <td>126.739998</td>\n",
       "      <td>127.300003</td>\n",
       "      <td>117.320793</td>\n",
       "      <td>32918100</td>\n",
       "    </tr>\n",
       "    <tr>\n",
       "      <th>4</th>\n",
       "      <td>2015-06-18</td>\n",
       "      <td>127.230003</td>\n",
       "      <td>128.309998</td>\n",
       "      <td>127.220001</td>\n",
       "      <td>127.879997</td>\n",
       "      <td>117.855324</td>\n",
       "      <td>35407200</td>\n",
       "    </tr>\n",
       "  </tbody>\n",
       "</table>\n",
       "</div>"
      ],
      "text/plain": [
       "        Date        Open        High         Low       Close   Adj Close  \\\n",
       "0 2015-06-12  128.190002  128.330002  127.110001  127.169998  117.200966   \n",
       "1 2015-06-15  126.099998  127.239998  125.709999  126.919998  116.970581   \n",
       "2 2015-06-16  127.029999  127.849998  126.370003  127.599998  117.597267   \n",
       "3 2015-06-17  127.720001  127.879997  126.739998  127.300003  117.320793   \n",
       "4 2015-06-18  127.230003  128.309998  127.220001  127.879997  117.855324   \n",
       "\n",
       "     Volume  \n",
       "0  36886200  \n",
       "1  43988900  \n",
       "2  31494100  \n",
       "3  32918100  \n",
       "4  35407200  "
      ]
     },
     "execution_count": 2,
     "metadata": {},
     "output_type": "execute_result"
    }
   ],
   "source": [
    "df = pd.read_csv('AAPL.csv')\n",
    "# date_time_obj = datetime.strptime(date_time_str, '%d/%m/%y %H:%M:%S')\n",
    "\n",
    "# cast date strings into date objects\n",
    "df['Date'] = df['Date'].apply(lambda x: x[2:])\n",
    "df['Date'] = df['Date'].apply(lambda x: datetime.strptime(x, '%y-%m-%d'))\n",
    "df.head()"
   ]
  },
  {
   "cell_type": "code",
   "execution_count": 3,
   "metadata": {
    "scrolled": true
   },
   "outputs": [
    {
     "name": "stdout",
     "output_type": "stream",
     "text": [
      "<class 'pandas.core.frame.DataFrame'>\n",
      "RangeIndex: 1259 entries, 0 to 1258\n",
      "Data columns (total 7 columns):\n",
      " #   Column     Non-Null Count  Dtype         \n",
      "---  ------     --------------  -----         \n",
      " 0   Date       1259 non-null   datetime64[ns]\n",
      " 1   Open       1259 non-null   float64       \n",
      " 2   High       1259 non-null   float64       \n",
      " 3   Low        1259 non-null   float64       \n",
      " 4   Close      1259 non-null   float64       \n",
      " 5   Adj Close  1259 non-null   float64       \n",
      " 6   Volume     1259 non-null   int64         \n",
      "dtypes: datetime64[ns](1), float64(5), int64(1)\n",
      "memory usage: 69.0 KB\n"
     ]
    }
   ],
   "source": [
    "df.info()"
   ]
  },
  {
   "cell_type": "code",
   "execution_count": 4,
   "metadata": {},
   "outputs": [
    {
     "data": {
      "image/png": "[encoded data removed]",
      "text/plain": [
       "<Figure size 432x288 with 1 Axes>"
      ]
     },
     "metadata": {
      "needs_background": "light"
     },
     "output_type": "display_data"
    }
   ],
   "source": [
    "dates = df['Date']\n",
    "prices = df['Adj Close']\n",
    "plt.plot(dates, prices, color='royalblue')\n",
    "plt.title('AAPL Stock Price', size='16')\n",
    "plt.show()"
   ]
  },
  {
   "cell_type": "code",
   "execution_count": 5,
   "metadata": {},
   "outputs": [
    {
     "data": {
      "image/png": "[encoded data removed]",
      "text/plain": [
       "<Figure size 432x288 with 1 Axes>"
      ]
     },
     "metadata": {
      "needs_background": "light"
     },
     "output_type": "display_data"
    }
   ],
   "source": [
    "# Autocorrelation\n",
    "autocorrelation = []\n",
    "\n",
    "lags_list = []\n",
    "lags = 20\n",
    "for lag in range(1, int(len(prices)), int(len(prices)/lags)):\n",
    "    correlation = np.corrcoef(prices[:-lag],\n",
    "                             prices[lag:])[0,1]\n",
    "    autocorrelation.append(correlation)\n",
    "    lags_list.append(lag)\n",
    "\n",
    "plt.scatter(lags_list, autocorrelation)\n",
    "plt.title('Autocorrelation', size='16')\n",
    "plt.xlabel('Lag', size='14')\n",
    "plt.show()"
   ]
  },
  {
   "cell_type": "code",
   "execution_count": 6,
   "metadata": {},
   "outputs": [],
   "source": [
    "# Autocorrelation Function Implementation\n",
    "\n",
    "def acf(data, max_lags):\n",
    "    \"\"\"\n",
    "    Inputs:\n",
    "    data- vector\n",
    "    max_lags- integer\n",
    "    \n",
    "    Returns:\n",
    "    Variance of input data (float)\n",
    "    Autocovariance vector\n",
    "    Autocorrelation vector\n",
    "    \n",
    "    \"\"\"\n",
    "    sig2 = statistics.variance(data)\n",
    "    acv = []\n",
    "    acr = []\n",
    "    \n",
    "    # Autocovariance\n",
    "    for k in range(max_lags+1):\n",
    "        if k == 0: # 0 lag\n",
    "            acv.append(np.cov(data, data)[0,1]) # covariance with itself\n",
    "        else:\n",
    "            acv.append(np.cov(data[k:], data[:-k])[0,1])\n",
    "            \n",
    "    # Autocorrelation\n",
    "    for cov in acv:\n",
    "        acr.append(cov / sig2)\n",
    "    \n",
    "    return sig2, acv, acr\n",
    "    "
   ]
  },
  {
   "cell_type": "code",
   "execution_count": 7,
   "metadata": {},
   "outputs": [],
   "source": [
    "def durbin_levinson(g, max_lags):\n",
    "    \"\"\"\n",
    "    Creates psi matrix used to calculate coefficients\n",
    "    PACV (Partial Auto-Correlation Function) is on the main diagonal\n",
    "    \n",
    "    Inputs:\n",
    "    g- autocovariance vector\n",
    "    max_lags- number of 'p' lags\n",
    "    \n",
    "    \"\"\"\n",
    "    \n",
    "    phi = [] # AR(p) parameters/coefficients\n",
    "    psi = [[0 for col in range(max_lags+1)] for row in range(max_lags+1)] # psi matrix   \n",
    "    \n",
    "    r = [g[0]] # store residuals?\n",
    "    \n",
    "    for k in range(1,max_lags+1):\n",
    "        \n",
    "        # update main diagonal\n",
    "        total = 0\n",
    "        for j in range(1,k): # for each 'j' col in 'k' (lag) row\n",
    "            total += psi[k-1][j] * g[k-j]\n",
    "        a = (g[k] - total) / r[k-1]\n",
    "        psi[k][k] = a\n",
    "        \n",
    "        # filling out left side of diagonal --> does nothing the 1st iteration (range 1,1)\n",
    "        for j in range(1,k):\n",
    "            psi[k][j] = psi[k-1][j] - a * psi[k-1][k-j]\n",
    "        \n",
    "        # updates to r list\n",
    "        r.append(r[k-1] * (1 - a**2))\n",
    "        \n",
    "#     print(np.matrix(psi))\n",
    "    \n",
    "    return psi\n",
    "            \n",
    "            "
   ]
  },
  {
   "cell_type": "code",
   "execution_count": 8,
   "metadata": {},
   "outputs": [
    {
     "data": {
      "text/plain": [
       "[[0, 0, 0, 0],\n",
       " [0, 0.6627101879327398, 0, 0],\n",
       " [0, 0.536139416645621, 0.1909896265242943, 0],\n",
       " [0, 0.5446493085420276, 0.2148782981767119, -0.04455682777789046]]"
      ]
     },
     "execution_count": 8,
     "metadata": {},
     "output_type": "execute_result"
    }
   ],
   "source": [
    "example = [1,2,3,5,4,6,5,7,7,6,7,9,6,7,6,8,8,9,10,12]\n",
    "mean = sum(example) / len(example)\n",
    "\n",
    "for i in range(len(example)):\n",
    "    example[i] = example[i] - mean\n",
    "    \n",
    "var, autocovar, autocor = acf(example, 3)\n",
    "durbin_levinson(autocovar, 3)"
   ]
  },
  {
   "cell_type": "code",
   "execution_count": 9,
   "metadata": {},
   "outputs": [
    {
     "name": "stdout",
     "output_type": "stream",
     "text": [
      "Lag 1: 10.111177052423344\n",
      "Lag 2: 10.089943388702938\n",
      "Lag 3: 10.107750249049003\n"
     ]
    }
   ],
   "source": [
    "\n",
    "predictions = []\n",
    "\n",
    "psi_mat = durbin_levinson(autocovar, 3)\n",
    "for row_idx in range(1, len(psi_mat)):\n",
    "    total = 0\n",
    "    coef_idx = 1\n",
    "    y_idx = -1\n",
    "    while coef_idx <= 3: # unneeded calculations (0 as parameter)\n",
    "        total += psi_mat[row_idx][coef_idx] * example[y_idx]\n",
    "        coef_idx += 1\n",
    "        y_idx -= 1\n",
    "    predictions.append(total + mean)\n",
    "    \n",
    "# pretty print\n",
    "lag_count = 1\n",
    "for prediction in predictions:\n",
    "    print(\"Lag \" + str(lag_count) + \":\", prediction)\n",
    "    lag_count += 1\n",
    "    \n",
    "\n",
    "    "
   ]
  },
  {
   "cell_type": "code",
   "execution_count": 10,
   "metadata": {},
   "outputs": [],
   "source": [
    "def train(y, max_lags):\n",
    "    \n",
    "    # zero mean data\n",
    "    data = y.copy()\n",
    "    mu = sum(data) / len(data)\n",
    "    for i in range(len(data)):\n",
    "        data[i] = data[i] - mu\n",
    "        \n",
    "    # autocorrelation\n",
    "    variance, autocov, autocor = acf(data, max_lags)\n",
    "    \n",
    "    # create coefficient matrix\n",
    "    psi_mat = durbin_levinson(autocov, max_lags)\n",
    "    \n",
    "    return data, mu, psi_mat\n",
    "    \n",
    "    "
   ]
  },
  {
   "cell_type": "code",
   "execution_count": 12,
   "metadata": {},
   "outputs": [],
   "source": [
    "def forecast(data, mu, psi, max_lags):\n",
    "    \"\"\"\n",
    "    Input data is zero-meaned\n",
    "    \n",
    "    Output: forecasts the next y\n",
    "    \n",
    "    \"\"\"\n",
    "    predictions = []\n",
    "\n",
    "    for row_idx in range(1, len(psi)): # predict each lag\n",
    "        total = 0\n",
    "        idx = 1\n",
    "        while idx <= max_lags: # unneeded calculations (0 as parameter)\n",
    "            total += psi[row_idx][idx] * data[-idx]\n",
    "            idx += 1\n",
    "        predictions.append(total + mu)\n",
    "    \n",
    "    return predictions[-1] # return first forecast step\n",
    "            \n",
    "   "
   ]
  },
  {
   "cell_type": "code",
   "execution_count": 39,
   "metadata": {},
   "outputs": [
    {
     "data": {
      "text/plain": [
       "[331.5, 333.459991, 343.98999, 352.839996, 335.899994]"
      ]
     },
     "execution_count": 39,
     "metadata": {},
     "output_type": "execute_result"
    }
   ],
   "source": [
    "example = list(prices)\n",
    "example[-5:]"
   ]
  },
  {
   "cell_type": "code",
   "execution_count": 18,
   "metadata": {},
   "outputs": [],
   "source": [
    "# for multiple steps, need to retrain in order to predict next step\n",
    "\n",
    "def train_and_forecast_multiple(y, max_lags, steps=2):\n",
    "    \n",
    "    step_counter = steps # instantiate step counter\n",
    "    \n",
    "    # train the first time (step 1)\n",
    "    data, mu, psi_mat = train(y, max_lags)\n",
    "    # forecast the first time (step 1)\n",
    "    prediction = forecast(data, mu, psi_mat, max_lags)\n",
    "    \n",
    "    dwp = list(y).copy() # data with predictions\n",
    "    prediction_history = [prediction] # store predictions\n",
    "    dwp.append(prediction) # add 1st prediction to data\n",
    "    \n",
    "    # de-increment step_counter (made 1st prediction)\n",
    "    step_counter -= 1\n",
    "    \n",
    "    # train and predict multiple times\n",
    "    while step_counter > 0:\n",
    "        # train and predict\n",
    "        data, mu, psi_mat = train(dwp, max_lags)\n",
    "        prediction = forecast(data, mu, psi_mat, max_lags)\n",
    "        \n",
    "        # add to lists\n",
    "        prediction_history.append(prediction)\n",
    "        dwp.append(prediction)\n",
    "        \n",
    "        step_counter -= 1 # de-increment step counter    \n",
    "    \n",
    "    return prediction_history\n",
    "        "
   ]
  },
  {
   "cell_type": "code",
   "execution_count": 38,
   "metadata": {},
   "outputs": [
    {
     "data": {
      "text/plain": [
       "[299.4931166976599,\n",
       " 250.9852401658889,\n",
       " 190.95559032106846,\n",
       " 208.21870707478143,\n",
       " 183.17743894133244]"
      ]
     },
     "execution_count": 38,
     "metadata": {},
     "output_type": "execute_result"
    }
   ],
   "source": [
    "# Forecast the next 5 days\n",
    "train_and_forecast_multiple(example, 150, 5)"
   ]
  },
  {
   "cell_type": "code",
   "execution_count": null,
   "metadata": {},
   "outputs": [],
   "source": []
  }
 ],
 "metadata": {
  "kernelspec": {
   "display_name": "Python 3",
   "language": "python",
   "name": "python3"
  },
  "language_info": {
   "codemirror_mode": {
    "name": "ipython",
    "version": 3
   },
   "file_extension": ".py",
   "mimetype": "text/x-python",
   "name": "python",
   "nbconvert_exporter": "python",
   "pygments_lexer": "ipython3",
   "version": "3.7.6"
  }
 },
 "nbformat": 4,
 "nbformat_minor": 4
}
