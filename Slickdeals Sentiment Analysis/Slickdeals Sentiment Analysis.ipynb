{
 "cells": [
  {
   "cell_type": "code",
   "execution_count": 1,
   "metadata": {},
   "outputs": [],
   "source": [
    "import numpy as np\n",
    "import pandas as pd\n",
    "import nltk\n",
    "import string\n",
    "import re\n",
    "import seaborn as sns\n",
    "from sklearn.feature_extraction.text import TfidfVectorizer\n",
    "from sklearn.feature_extraction.text import CountVectorizer\n",
    "from sklearn.model_selection import train_test_split\n",
    "from sklearn import naive_bayes\n",
    "from sklearn.metrics import roc_auc_score\n",
    "from urllib.request import urlopen\n",
    "from sklearn.linear_model import LogisticRegression\n",
    "from sklearn.metrics import accuracy_score\n",
    "from sklearn.metrics import confusion_matrix\n",
    "from sklearn.metrics import precision_score\n",
    "from sklearn.metrics import recall_score\n",
    "from sklearn.metrics import f1_score\n",
    "import requests\n",
    "from bs4 import BeautifulSoup as soup\n",
    "from matplotlib import pyplot as plt"
   ]
  },
  {
   "cell_type": "code",
   "execution_count": 2,
   "metadata": {},
   "outputs": [
    {
     "name": "stderr",
     "output_type": "stream",
     "text": [
      "b'Skipping line 5583: expected 15 fields, saw 22\\nSkipping line 22814: expected 15 fields, saw 22\\nSkipping line 22883: expected 15 fields, saw 22\\nSkipping line 29872: expected 15 fields, saw 22\\nSkipping line 37242: expected 15 fields, saw 22\\nSkipping line 59693: expected 15 fields, saw 22\\n'\n",
      "b'Skipping line 49396: expected 15 fields, saw 22\\nSkipping line 57008: expected 15 fields, saw 22\\n'\n",
      "b'Skipping line 82075: expected 15 fields, saw 22\\nSkipping line 104435: expected 15 fields, saw 22\\nSkipping line 109766: expected 15 fields, saw 22\\nSkipping line 124024: expected 15 fields, saw 22\\nSkipping line 129914: expected 15 fields, saw 22\\nSkipping line 130172: expected 15 fields, saw 22\\n'\n",
      "b'Skipping line 161515: expected 15 fields, saw 22\\n'\n",
      "b'Skipping line 230464: expected 15 fields, saw 22\\n'\n",
      "b'Skipping line 292640: expected 15 fields, saw 22\\nSkipping line 293681: expected 15 fields, saw 22\\nSkipping line 316511: expected 15 fields, saw 22\\nSkipping line 317239: expected 15 fields, saw 22\\nSkipping line 326099: expected 15 fields, saw 22\\nSkipping line 327595: expected 15 fields, saw 22\\n'\n",
      "b'Skipping line 342645: expected 15 fields, saw 22\\nSkipping line 347980: expected 15 fields, saw 22\\nSkipping line 376258: expected 15 fields, saw 22\\nSkipping line 381192: expected 15 fields, saw 22\\nSkipping line 386485: expected 15 fields, saw 22\\n'\n",
      "b'Skipping line 407400: expected 15 fields, saw 22\\nSkipping line 416310: expected 15 fields, saw 22\\nSkipping line 416980: expected 15 fields, saw 22\\nSkipping line 455682: expected 15 fields, saw 22\\n'\n",
      "b'Skipping line 472662: expected 15 fields, saw 22\\n'\n",
      "b'Skipping line 539038: expected 15 fields, saw 22\\nSkipping line 580519: expected 15 fields, saw 22\\n'\n",
      "b'Skipping line 635125: expected 15 fields, saw 22\\n'\n",
      "b'Skipping line 723898: expected 15 fields, saw 22\\nSkipping line 760157: expected 15 fields, saw 22\\n'\n",
      "b'Skipping line 789445: expected 15 fields, saw 22\\nSkipping line 796985: expected 15 fields, saw 22\\nSkipping line 810160: expected 15 fields, saw 22\\n'\n",
      "b'Skipping line 880731: expected 15 fields, saw 22\\nSkipping line 894334: expected 15 fields, saw 22\\n'\n",
      "b'Skipping line 921347: expected 15 fields, saw 22\\nSkipping line 931127: expected 15 fields, saw 22\\n'\n",
      "b'Skipping line 1008439: expected 15 fields, saw 22\\nSkipping line 1037655: expected 15 fields, saw 22\\n'\n",
      "b'Skipping line 1055998: expected 15 fields, saw 22\\n'\n",
      "b'Skipping line 1188632: expected 15 fields, saw 22\\nSkipping line 1233723: expected 15 fields, saw 22\\nSkipping line 1244463: expected 15 fields, saw 22\\n'\n",
      "b'Skipping line 1507887: expected 15 fields, saw 22\\nSkipping line 1564930: expected 15 fields, saw 22\\n'\n",
      "b'Skipping line 1807298: expected 15 fields, saw 22\\nSkipping line 1829193: expected 15 fields, saw 22\\n'\n",
      "b'Skipping line 1868798: expected 15 fields, saw 22\\n'\n",
      "b'Skipping line 1904329: expected 15 fields, saw 22\\nSkipping line 1935010: expected 15 fields, saw 22\\nSkipping line 1957592: expected 15 fields, saw 22\\nSkipping line 1965838: expected 15 fields, saw 22\\n'\n",
      "b'Skipping line 1976381: expected 15 fields, saw 22\\nSkipping line 2014993: expected 15 fields, saw 22\\n'\n",
      "b'Skipping line 2037893: expected 15 fields, saw 22\\n'\n",
      "b'Skipping line 2437394: expected 15 fields, saw 22\\n'\n",
      "b'Skipping line 2538052: expected 15 fields, saw 22\\n'\n",
      "b'Skipping line 2569847: expected 15 fields, saw 22\\n'\n",
      "b'Skipping line 2759787: expected 15 fields, saw 22\\n'\n",
      "b'Skipping line 2987929: expected 15 fields, saw 22\\n'\n",
      "b'Skipping line 3174718: expected 15 fields, saw 22\\n'\n",
      "b'Skipping line 3259703: expected 15 fields, saw 22\\n'\n",
      "b'Skipping line 3424140: expected 15 fields, saw 22\\nSkipping line 3430150: expected 15 fields, saw 22\\n'\n",
      "b'Skipping line 3489349: expected 15 fields, saw 22\\nSkipping line 3529163: expected 15 fields, saw 22\\n'\n",
      "b'Skipping line 3730489: expected 15 fields, saw 22\\n'\n",
      "b'Skipping line 4073027: expected 15 fields, saw 22\\nSkipping line 4127350: expected 15 fields, saw 22\\n'\n",
      "b'Skipping line 4508712: expected 15 fields, saw 22\\n'\n",
      "b'Skipping line 5115619: expected 15 fields, saw 22\\n'\n",
      "b'Skipping line 5279907: expected 15 fields, saw 22\\n'\n",
      "b'Skipping line 5318712: expected 15 fields, saw 22\\n'\n",
      "b'Skipping line 5432514: expected 15 fields, saw 22\\n'\n",
      "b'Skipping line 5568417: expected 15 fields, saw 22\\n'\n",
      "b'Skipping line 5840248: expected 15 fields, saw 22\\n'\n",
      "b'Skipping line 7549: expected 15 fields, saw 22\\nSkipping line 27856: expected 15 fields, saw 22\\nSkipping line 53399: expected 15 fields, saw 22\\n'\n",
      "b'Skipping line 76073: expected 15 fields, saw 22\\nSkipping line 89612: expected 15 fields, saw 22\\nSkipping line 93502: expected 15 fields, saw 22\\nSkipping line 96533: expected 15 fields, saw 22\\nSkipping line 107777: expected 15 fields, saw 22\\nSkipping line 114290: expected 15 fields, saw 22\\nSkipping line 118937: expected 15 fields, saw 22\\n'\n",
      "b'Skipping line 175061: expected 15 fields, saw 22\\nSkipping line 185159: expected 15 fields, saw 22\\nSkipping line 191448: expected 15 fields, saw 22\\n'\n",
      "b'Skipping line 217523: expected 15 fields, saw 22\\nSkipping line 217618: expected 15 fields, saw 22\\nSkipping line 238480: expected 15 fields, saw 22\\nSkipping line 242797: expected 15 fields, saw 22\\nSkipping line 258855: expected 15 fields, saw 22\\n'\n",
      "b'Skipping line 274223: expected 15 fields, saw 22\\nSkipping line 284977: expected 15 fields, saw 22\\nSkipping line 292275: expected 15 fields, saw 22\\nSkipping line 308205: expected 15 fields, saw 22\\nSkipping line 316345: expected 15 fields, saw 22\\nSkipping line 319263: expected 15 fields, saw 22\\n'\n",
      "b'Skipping line 346649: expected 15 fields, saw 22\\nSkipping line 358085: expected 15 fields, saw 22\\nSkipping line 367296: expected 15 fields, saw 22\\n'\n",
      "b'Skipping line 401531: expected 15 fields, saw 22\\nSkipping line 418883: expected 15 fields, saw 22\\nSkipping line 425090: expected 15 fields, saw 22\\nSkipping line 426609: expected 15 fields, saw 22\\n'\n",
      "b'Skipping line 477418: expected 15 fields, saw 22\\nSkipping line 478435: expected 15 fields, saw 22\\nSkipping line 482297: expected 15 fields, saw 22\\nSkipping line 486579: expected 15 fields, saw 22\\nSkipping line 498280: expected 15 fields, saw 22\\nSkipping line 514041: expected 15 fields, saw 22\\nSkipping line 524280: expected 15 fields, saw 22\\n'\n",
      "b'Skipping line 525919: expected 15 fields, saw 22\\nSkipping line 528040: expected 15 fields, saw 22\\nSkipping line 530763: expected 15 fields, saw 22\\nSkipping line 535716: expected 15 fields, saw 22\\nSkipping line 537226: expected 15 fields, saw 22\\nSkipping line 537298: expected 15 fields, saw 22\\nSkipping line 538452: expected 15 fields, saw 22\\nSkipping line 542895: expected 15 fields, saw 22\\nSkipping line 563939: expected 15 fields, saw 22\\nSkipping line 568311: expected 15 fields, saw 22\\nSkipping line 578715: expected 15 fields, saw 22\\nSkipping line 584889: expected 15 fields, saw 22\\nSkipping line 587404: expected 15 fields, saw 22\\n'\n",
      "b'Skipping line 594445: expected 15 fields, saw 22\\nSkipping line 600835: expected 15 fields, saw 22\\nSkipping line 602086: expected 15 fields, saw 22\\nSkipping line 610689: expected 15 fields, saw 22\\nSkipping line 615276: expected 15 fields, saw 22\\nSkipping line 622154: expected 15 fields, saw 22\\nSkipping line 628440: expected 15 fields, saw 22\\nSkipping line 631600: expected 15 fields, saw 22\\nSkipping line 636387: expected 15 fields, saw 22\\nSkipping line 638400: expected 15 fields, saw 22\\n'\n",
      "b'Skipping line 660741: expected 15 fields, saw 22\\nSkipping line 665127: expected 15 fields, saw 22\\nSkipping line 666026: expected 15 fields, saw 22\\nSkipping line 676698: expected 15 fields, saw 22\\nSkipping line 697971: expected 15 fields, saw 22\\nSkipping line 699669: expected 15 fields, saw 22\\nSkipping line 700379: expected 15 fields, saw 22\\n'\n",
      "b'Skipping line 741370: expected 15 fields, saw 22\\nSkipping line 741589: expected 15 fields, saw 22\\nSkipping line 758752: expected 15 fields, saw 22\\nSkipping line 781241: expected 15 fields, saw 22\\n'\n",
      "b'Skipping line 793782: expected 15 fields, saw 22\\nSkipping line 795108: expected 15 fields, saw 22\\nSkipping line 818334: expected 15 fields, saw 22\\nSkipping line 822690: expected 15 fields, saw 22\\n'\n",
      "b'Skipping line 855009: expected 15 fields, saw 22\\nSkipping line 870760: expected 15 fields, saw 22\\nSkipping line 891467: expected 15 fields, saw 22\\n'\n"
     ]
    },
    {
     "name": "stderr",
     "output_type": "stream",
     "text": [
      "b'Skipping line 945450: expected 15 fields, saw 22\\nSkipping line 949785: expected 15 fields, saw 22\\nSkipping line 958534: expected 15 fields, saw 22\\n'\n",
      "b'Skipping line 1006147: expected 15 fields, saw 22\\nSkipping line 1020875: expected 15 fields, saw 22\\nSkipping line 1027474: expected 15 fields, saw 22\\nSkipping line 1033688: expected 15 fields, saw 22\\n'\n",
      "b'Skipping line 1056719: expected 15 fields, saw 22\\nSkipping line 1067438: expected 15 fields, saw 22\\nSkipping line 1079099: expected 15 fields, saw 22\\nSkipping line 1085814: expected 15 fields, saw 22\\nSkipping line 1112836: expected 15 fields, saw 22\\n'\n",
      "b'Skipping line 1124957: expected 15 fields, saw 22\\nSkipping line 1138765: expected 15 fields, saw 22\\nSkipping line 1148270: expected 15 fields, saw 22\\nSkipping line 1160930: expected 15 fields, saw 22\\nSkipping line 1162655: expected 15 fields, saw 22\\n'\n",
      "b'Skipping line 1192443: expected 15 fields, saw 22\\nSkipping line 1229660: expected 15 fields, saw 22\\nSkipping line 1244131: expected 15 fields, saw 22\\n'\n",
      "b'Skipping line 1250699: expected 15 fields, saw 22\\nSkipping line 1269442: expected 15 fields, saw 22\\nSkipping line 1279923: expected 15 fields, saw 22\\nSkipping line 1282927: expected 15 fields, saw 22\\nSkipping line 1286341: expected 15 fields, saw 22\\nSkipping line 1301270: expected 15 fields, saw 22\\nSkipping line 1306255: expected 15 fields, saw 22\\n'\n",
      "b'Skipping line 1340306: expected 15 fields, saw 22\\nSkipping line 1358550: expected 15 fields, saw 22\\n'\n",
      "b'Skipping line 1382569: expected 15 fields, saw 22\\nSkipping line 1390333: expected 15 fields, saw 22\\nSkipping line 1411659: expected 15 fields, saw 22\\nSkipping line 1440802: expected 15 fields, saw 22\\n'\n",
      "b'Skipping line 1442783: expected 15 fields, saw 22\\nSkipping line 1488812: expected 15 fields, saw 22\\n'\n",
      "b'Skipping line 1511179: expected 15 fields, saw 22\\nSkipping line 1518267: expected 15 fields, saw 22\\nSkipping line 1539821: expected 15 fields, saw 22\\nSkipping line 1542802: expected 15 fields, saw 22\\nSkipping line 1548443: expected 15 fields, saw 22\\nSkipping line 1549102: expected 15 fields, saw 22\\nSkipping line 1557671: expected 15 fields, saw 22\\nSkipping line 1560717: expected 15 fields, saw 22\\n'\n",
      "b'Skipping line 1583031: expected 15 fields, saw 22\\nSkipping line 1589830: expected 15 fields, saw 22\\nSkipping line 1593954: expected 15 fields, saw 22\\nSkipping line 1619714: expected 15 fields, saw 22\\nSkipping line 1626865: expected 15 fields, saw 22\\n'\n",
      "b'Skipping line 1640894: expected 15 fields, saw 22\\nSkipping line 1671105: expected 15 fields, saw 22\\nSkipping line 1682719: expected 15 fields, saw 22\\nSkipping line 1698705: expected 15 fields, saw 22\\n'\n",
      "b'Skipping line 1709202: expected 15 fields, saw 22\\nSkipping line 1732031: expected 15 fields, saw 22\\nSkipping line 1753028: expected 15 fields, saw 22\\nSkipping line 1757021: expected 15 fields, saw 22\\nSkipping line 1759784: expected 15 fields, saw 22\\nSkipping line 1765336: expected 15 fields, saw 22\\n'\n",
      "b'Skipping line 1787006: expected 15 fields, saw 22\\nSkipping line 1799108: expected 15 fields, saw 22\\nSkipping line 1800352: expected 15 fields, saw 22\\nSkipping line 1820265: expected 15 fields, saw 22\\nSkipping line 1829829: expected 15 fields, saw 22\\n'\n",
      "b'Skipping line 1836210: expected 15 fields, saw 22\\nSkipping line 1837913: expected 15 fields, saw 22\\nSkipping line 1838322: expected 15 fields, saw 22\\nSkipping line 1850799: expected 15 fields, saw 22\\nSkipping line 1851660: expected 15 fields, saw 22\\nSkipping line 1851760: expected 15 fields, saw 22\\nSkipping line 1856953: expected 15 fields, saw 22\\nSkipping line 1877331: expected 15 fields, saw 22\\nSkipping line 1879194: expected 15 fields, saw 22\\nSkipping line 1885539: expected 15 fields, saw 22\\n'\n",
      "b'Skipping line 1914602: expected 15 fields, saw 22\\nSkipping line 1920033: expected 15 fields, saw 22\\nSkipping line 1920128: expected 15 fields, saw 22\\nSkipping line 1928420: expected 15 fields, saw 22\\nSkipping line 1932534: expected 15 fields, saw 22\\nSkipping line 1938472: expected 15 fields, saw 22\\nSkipping line 1955911: expected 15 fields, saw 22\\nSkipping line 1957872: expected 15 fields, saw 22\\n'\n",
      "b'Skipping line 1981562: expected 15 fields, saw 22\\nSkipping line 2018197: expected 15 fields, saw 22\\n'\n",
      "b'Skipping line 2036017: expected 15 fields, saw 22\\nSkipping line 2057336: expected 15 fields, saw 22\\n'\n",
      "b'Skipping line 2115217: expected 15 fields, saw 22\\nSkipping line 2123227: expected 15 fields, saw 22\\nSkipping line 2139547: expected 15 fields, saw 22\\n'\n",
      "b'Skipping line 2180195: expected 15 fields, saw 22\\nSkipping line 2227967: expected 15 fields, saw 22\\n'\n",
      "b'Skipping line 2239370: expected 15 fields, saw 22\\nSkipping line 2248833: expected 15 fields, saw 22\\nSkipping line 2270257: expected 15 fields, saw 22\\n'\n",
      "b'Skipping line 2294088: expected 15 fields, saw 22\\nSkipping line 2339075: expected 15 fields, saw 22\\nSkipping line 2341949: expected 15 fields, saw 22\\nSkipping line 2355932: expected 15 fields, saw 22\\nSkipping line 2358472: expected 15 fields, saw 22\\n'\n",
      "b'Skipping line 2380375: expected 15 fields, saw 22\\nSkipping line 2421317: expected 15 fields, saw 22\\n'\n",
      "b'Skipping line 2427097: expected 15 fields, saw 22\\nSkipping line 2430168: expected 15 fields, saw 22\\nSkipping line 2433981: expected 15 fields, saw 22\\nSkipping line 2435256: expected 15 fields, saw 22\\nSkipping line 2459832: expected 15 fields, saw 22\\nSkipping line 2461658: expected 15 fields, saw 22\\nSkipping line 2488261: expected 15 fields, saw 22\\n'\n",
      "b'Skipping line 2511271: expected 15 fields, saw 22\\nSkipping line 2515564: expected 15 fields, saw 22\\n'\n",
      "b'Skipping line 2739141: expected 15 fields, saw 22\\n'\n",
      "b'Skipping line 2903749: expected 15 fields, saw 22\\nSkipping line 2934812: expected 15 fields, saw 22\\n'\n",
      "b'Skipping line 3005263: expected 15 fields, saw 22\\n'\n",
      "b'Skipping line 3312771: expected 15 fields, saw 22\\n'\n",
      "b'Skipping line 3362891: expected 15 fields, saw 22\\n'\n",
      "b'Skipping line 3522495: expected 15 fields, saw 22\\n'\n",
      "b'Skipping line 3580053: expected 15 fields, saw 22\\n'\n",
      "b'Skipping line 4278901: expected 15 fields, saw 22\\n'\n",
      "b'Skipping line 4488253: expected 15 fields, saw 22\\n'\n",
      "b'Skipping line 4775463: expected 15 fields, saw 22\\n'\n",
      "b'Skipping line 9076: expected 15 fields, saw 22\\nSkipping line 19256: expected 15 fields, saw 22\\nSkipping line 24313: expected 15 fields, saw 22\\nSkipping line 47211: expected 15 fields, saw 22\\nSkipping line 54295: expected 15 fields, saw 22\\nSkipping line 56641: expected 15 fields, saw 22\\nSkipping line 63067: expected 15 fields, saw 22\\n'\n",
      "b'Skipping line 93796: expected 15 fields, saw 22\\n'\n",
      "b'Skipping line 132806: expected 15 fields, saw 22\\nSkipping line 164631: expected 15 fields, saw 22\\nSkipping line 167019: expected 15 fields, saw 22\\nSkipping line 167212: expected 15 fields, saw 22\\n'\n",
      "b'Skipping line 198103: expected 15 fields, saw 22\\nSkipping line 199191: expected 15 fields, saw 22\\nSkipping line 202841: expected 15 fields, saw 22\\nSkipping line 218228: expected 15 fields, saw 22\\nSkipping line 235900: expected 15 fields, saw 22\\n'\n",
      "b'Skipping line 277761: expected 15 fields, saw 22\\nSkipping line 304582: expected 15 fields, saw 22\\nSkipping line 312029: expected 15 fields, saw 22\\n'\n",
      "b'Skipping line 343692: expected 15 fields, saw 22\\nSkipping line 352291: expected 15 fields, saw 22\\nSkipping line 363414: expected 15 fields, saw 22\\nSkipping line 378087: expected 15 fields, saw 22\\nSkipping line 378720: expected 15 fields, saw 22\\nSkipping line 378760: expected 15 fields, saw 22\\nSkipping line 379336: expected 15 fields, saw 22\\n'\n",
      "b'Skipping line 402682: expected 15 fields, saw 22\\n'\n",
      "b'Skipping line 466560: expected 15 fields, saw 22\\nSkipping line 486823: expected 15 fields, saw 22\\nSkipping line 489036: expected 15 fields, saw 22\\nSkipping line 496148: expected 15 fields, saw 22\\nSkipping line 522330: expected 15 fields, saw 22\\n'\n",
      "b'Skipping line 552961: expected 15 fields, saw 22\\nSkipping line 577388: expected 15 fields, saw 22\\nSkipping line 582182: expected 15 fields, saw 22\\n'\n",
      "b'Skipping line 590653: expected 15 fields, saw 22\\nSkipping line 608846: expected 15 fields, saw 22\\nSkipping line 615442: expected 15 fields, saw 22\\nSkipping line 645607: expected 15 fields, saw 22\\nSkipping line 654323: expected 15 fields, saw 22\\n'\n"
     ]
    },
    {
     "name": "stderr",
     "output_type": "stream",
     "text": [
      "b'Skipping line 714935: expected 15 fields, saw 22\\n'\n",
      "b'Skipping line 749608: expected 15 fields, saw 22\\nSkipping line 753868: expected 15 fields, saw 22\\nSkipping line 762504: expected 15 fields, saw 22\\nSkipping line 771706: expected 15 fields, saw 22\\nSkipping line 773376: expected 15 fields, saw 22\\n'\n",
      "b'Skipping line 792407: expected 15 fields, saw 22\\nSkipping line 793933: expected 15 fields, saw 22\\nSkipping line 813269: expected 15 fields, saw 22\\nSkipping line 835491: expected 15 fields, saw 22\\nSkipping line 841176: expected 15 fields, saw 22\\nSkipping line 844604: expected 15 fields, saw 22\\n'\n",
      "b'Skipping line 857952: expected 15 fields, saw 22\\nSkipping line 859568: expected 15 fields, saw 22\\nSkipping line 860789: expected 15 fields, saw 22\\nSkipping line 863093: expected 15 fields, saw 22\\nSkipping line 881608: expected 15 fields, saw 22\\nSkipping line 891157: expected 15 fields, saw 22\\nSkipping line 893799: expected 15 fields, saw 22\\nSkipping line 906438: expected 15 fields, saw 22\\nSkipping line 914856: expected 15 fields, saw 22\\n'\n",
      "b'Skipping line 940736: expected 15 fields, saw 22\\nSkipping line 965818: expected 15 fields, saw 22\\n'\n",
      "b'Skipping line 993840: expected 15 fields, saw 22\\nSkipping line 1019036: expected 15 fields, saw 22\\nSkipping line 1019205: expected 15 fields, saw 22\\n'\n",
      "b'Skipping line 1058122: expected 15 fields, saw 22\\n'\n",
      "b'Skipping line 1144887: expected 15 fields, saw 22\\nSkipping line 1147255: expected 15 fields, saw 22\\nSkipping line 1164497: expected 15 fields, saw 22\\nSkipping line 1166930: expected 15 fields, saw 22\\n'\n",
      "b'Skipping line 1218319: expected 15 fields, saw 22\\nSkipping line 1232868: expected 15 fields, saw 22\\n'\n",
      "b'Skipping line 1307335: expected 15 fields, saw 22\\n'\n",
      "b'Skipping line 1621422: expected 15 fields, saw 22\\n'\n",
      "b'Skipping line 1857720: expected 15 fields, saw 22\\n'\n",
      "b'Skipping line 1935753: expected 15 fields, saw 22\\n'\n",
      "b'Skipping line 1988449: expected 15 fields, saw 22\\n'\n"
     ]
    }
   ],
   "source": [
    "# importing datasets (4 Amazon review datasets)\n",
    "\n",
    "appliance_df = pd.read_csv('amazon_reviews_us_Major_Appliances_v1_00.tsv', sep='\\t', error_bad_lines=False)\n",
    "apparel_df = pd.read_csv('amazon_reviews_us_Apparel_v1_00.tsv', sep='\\t', error_bad_lines=False)\n",
    "sports_df = pd.read_csv('amazon_reviews_us_Sports_v1_00.tsv', sep='\\t', error_bad_lines=False,\n",
    "                       dtype={'helpful_votes': 'float64',\n",
    "                             'star_rating': 'object',\n",
    "                             'total_votes': 'float64'})\n",
    "electronics_df = pd.read_csv('amazon_reviews_us_Electronics_v1_00.tsv', sep='\\t', error_bad_lines=False)"
   ]
  },
  {
   "cell_type": "code",
   "execution_count": 3,
   "metadata": {},
   "outputs": [],
   "source": [
    "# data processing\n",
    "appliance_df = appliance_df[['star_rating', 'review_body']]\n",
    "appliance_df = appliance_df.dropna()\n",
    "apparel_df = apparel_df[['star_rating', 'review_body']]\n",
    "apparel_df = apparel_df.dropna()\n",
    "sports_df = sports_df[['star_rating', 'review_body']]\n",
    "sports_df = sports_df.dropna()\n",
    "electronics_df = electronics_df[['star_rating', 'review_body']]\n",
    "electronics_df = electronics_df.dropna()\n",
    "\n",
    "appliance_df = appliance_df.astype({'star_rating': 'int32', 'review_body': 'str'})\n",
    "apparel_df = apparel_df.astype({'star_rating': 'int32', 'review_body': 'str'})\n",
    "sports_df = sports_df.astype({'star_rating': 'int32', 'review_body': 'str'})\n",
    "electronics_df = electronics_df.astype({'star_rating': 'int32', 'review_body': 'str'})\n",
    "\n",
    "# 4 or 5 star ratings are positive\n",
    "pos_appliance_df = appliance_df[(appliance_df['star_rating'] == 4) | (appliance_df['star_rating'] == 5)][:25000]\n",
    "pos_apparel_df = apparel_df[(apparel_df['star_rating'] == 4) | (apparel_df['star_rating'] == 5)][:25000]\n",
    "pos_sports_df = sports_df[(sports_df['star_rating'] == 4) | (sports_df['star_rating'] == 5)][:25000]\n",
    "pos_electronics_df = electronics_df[(electronics_df['star_rating'] == 4) | (electronics_df['star_rating'] == 5)][:25000]\n",
    "\n",
    "# 1 and 2 star ratings are negative\n",
    "neg_appliance_df = appliance_df[(appliance_df['star_rating'] == 1) | (appliance_df['star_rating'] == 2)][:25000]\n",
    "neg_apparel_df = apparel_df[(apparel_df['star_rating'] == 1) | (apparel_df['star_rating'] == 2)][:25000]\n",
    "neg_sports_df = sports_df[(sports_df['star_rating'] == 1) | (sports_df['star_rating'] == 2)][:25000]\n",
    "neg_electronics_df = electronics_df[(electronics_df['star_rating'] == 1) | (electronics_df['star_rating'] == 2)][:25000]\n",
    "\n",
    "# combining into one df (need to grab 50)"
   ]
  },
  {
   "cell_type": "code",
   "execution_count": 4,
   "metadata": {},
   "outputs": [],
   "source": [
    "# combining data frame\n",
    "combined_df = pd.concat([pos_appliance_df, pos_apparel_df, pos_sports_df, pos_electronics_df,\n",
    "                        neg_appliance_df, neg_apparel_df, neg_sports_df, neg_electronics_df], axis=0)"
   ]
  },
  {
   "cell_type": "code",
   "execution_count": 5,
   "metadata": {},
   "outputs": [
    {
     "data": {
      "text/plain": [
       "(200000, 2)"
      ]
     },
     "execution_count": 5,
     "metadata": {},
     "output_type": "execute_result"
    }
   ],
   "source": [
    "combined_df.shape #100k positive and 100k negative"
   ]
  },
  {
   "cell_type": "code",
   "execution_count": 6,
   "metadata": {},
   "outputs": [],
   "source": [
    "# creating sentiment column\n",
    "def applySentiment(rating):\n",
    "    if rating == 4 or rating == 5:\n",
    "        return 1\n",
    "    elif rating == 1 or rating == 2:\n",
    "        return 0\n",
    "    \n",
    "combined_df['sentiment'] = combined_df['star_rating'].apply(lambda x: applySentiment(x))"
   ]
  },
  {
   "cell_type": "code",
   "execution_count": 35,
   "metadata": {
    "scrolled": true
   },
   "outputs": [
    {
     "data": {
      "text/html": [
       "<div>\n",
       "<style scoped>\n",
       "    .dataframe tbody tr th:only-of-type {\n",
       "        vertical-align: middle;\n",
       "    }\n",
       "\n",
       "    .dataframe tbody tr th {\n",
       "        vertical-align: top;\n",
       "    }\n",
       "\n",
       "    .dataframe thead th {\n",
       "        text-align: right;\n",
       "    }\n",
       "</style>\n",
       "<table border=\"1\" class=\"dataframe\">\n",
       "  <thead>\n",
       "    <tr style=\"text-align: right;\">\n",
       "      <th></th>\n",
       "      <th>star_rating</th>\n",
       "      <th>review_body</th>\n",
       "      <th>sentiment</th>\n",
       "      <th>cleaned_reviews</th>\n",
       "    </tr>\n",
       "  </thead>\n",
       "  <tbody>\n",
       "    <tr>\n",
       "      <th>0</th>\n",
       "      <td>5</td>\n",
       "      <td>What a great stove.  What a wonderful replacem...</td>\n",
       "      <td>1</td>\n",
       "      <td>what a great stove what a wonderful replacemen...</td>\n",
       "    </tr>\n",
       "    <tr>\n",
       "      <th>1</th>\n",
       "      <td>5</td>\n",
       "      <td>worked great</td>\n",
       "      <td>1</td>\n",
       "      <td>worked great</td>\n",
       "    </tr>\n",
       "    <tr>\n",
       "      <th>2</th>\n",
       "      <td>5</td>\n",
       "      <td>Part exactly what I needed.  Saved by purchasi...</td>\n",
       "      <td>1</td>\n",
       "      <td>part exactly what i needed saved by purchasing...</td>\n",
       "    </tr>\n",
       "    <tr>\n",
       "      <th>3</th>\n",
       "      <td>5</td>\n",
       "      <td>Love my refrigerator! ! Keeps everything  cold...</td>\n",
       "      <td>1</td>\n",
       "      <td>love my refrigerator keep everything coldwill ...</td>\n",
       "    </tr>\n",
       "    <tr>\n",
       "      <th>4</th>\n",
       "      <td>5</td>\n",
       "      <td>No more running to the store for ice!  Works p...</td>\n",
       "      <td>1</td>\n",
       "      <td>no more running to the store for ice work perf...</td>\n",
       "    </tr>\n",
       "  </tbody>\n",
       "</table>\n",
       "</div>"
      ],
      "text/plain": [
       "   star_rating                                        review_body  sentiment  \\\n",
       "0            5  What a great stove.  What a wonderful replacem...          1   \n",
       "1            5                                       worked great          1   \n",
       "2            5  Part exactly what I needed.  Saved by purchasi...          1   \n",
       "3            5  Love my refrigerator! ! Keeps everything  cold...          1   \n",
       "4            5  No more running to the store for ice!  Works p...          1   \n",
       "\n",
       "                                     cleaned_reviews  \n",
       "0  what a great stove what a wonderful replacemen...  \n",
       "1                                       worked great  \n",
       "2  part exactly what i needed saved by purchasing...  \n",
       "3  love my refrigerator keep everything coldwill ...  \n",
       "4  no more running to the store for ice work perf...  "
      ]
     },
     "execution_count": 35,
     "metadata": {},
     "output_type": "execute_result"
    }
   ],
   "source": [
    "# cleaning\n",
    "stopwords = nltk.corpus.stopwords.words('english')\n",
    "lemmatizer = nltk.stem.WordNetLemmatizer()\n",
    "\n",
    "def clean_text(text):\n",
    "    text = \"\".join([word.lower() for word in text if word not in string.punctuation])\n",
    "    tokens = re.split('\\W+', text)\n",
    "    text = \" \".join([lemmatizer.lemmatize(word) for word in tokens])\n",
    "    return text\n",
    "\n",
    "# use for tfidf (tokens are separated in a list)\n",
    "def clean_text2(text):\n",
    "    text = \"\".join([word.lower() for word in text if word not in string.punctuation])\n",
    "    tokens = re.split('\\W+', text)\n",
    "    text = [lemmatizer.lemmatize(word) for word in tokens]\n",
    "    return text\n",
    "\n",
    "combined_df['cleaned_reviews'] = combined_df['review_body'].apply(lambda x: clean_text(x))\n",
    "combined_df.head()"
   ]
  },
  {
   "cell_type": "code",
   "execution_count": 8,
   "metadata": {},
   "outputs": [],
   "source": [
    "# download\n",
    "combined_df.to_csv('reviews.csv')"
   ]
  },
  {
   "cell_type": "code",
   "execution_count": 9,
   "metadata": {},
   "outputs": [
    {
     "data": {
      "image/png": "[encoded data removed]",
      "text/plain": [
       "<Figure size 432x288 with 1 Axes>"
      ]
     },
     "metadata": {
      "needs_background": "light"
     },
     "output_type": "display_data"
    }
   ],
   "source": [
    "# EDA / VIZ\n",
    "\n",
    "# Star Rating Distribution\n",
    "star_rating_dist = pd.value_counts(combined_df['star_rating'].values, sort=False)\n",
    "# combined_df['star_rating'].hist(bins=5, color='royalblue', edgecolor='black', linewidth=1.4)\n",
    "# plt.xticks(np.arange(1,6,1))\n",
    "star_rating_dist.plot.bar(edgecolor='black', linewidth=1.2)\n",
    "plt.title('Star Ratings on Amazon Reviews', size=16)\n",
    "plt.xlabel('Star Rating', size=14)\n",
    "plt.ylabel('Count', size=14)\n",
    "plt.show()"
   ]
  },
  {
   "cell_type": "code",
   "execution_count": 10,
   "metadata": {},
   "outputs": [
    {
     "data": {
      "image/png": "[encoded data removed]",
      "text/plain": [
       "<Figure size 432x288 with 1 Axes>"
      ]
     },
     "metadata": {
      "needs_background": "light"
     },
     "output_type": "display_data"
    }
   ],
   "source": [
    "# Sentiment Distribution\n",
    "sentiment_dist = pd.value_counts(combined_df['sentiment'].values, sort=False)\n",
    "sentiment_dist.plot.barh()\n",
    "plt.title('Star Rating Histogram', size=16)\n",
    "plt.xlabel('Star Rating', size=14)\n",
    "plt.ylabel('Count')\n",
    "plt.show()"
   ]
  },
  {
   "cell_type": "code",
   "execution_count": 92,
   "metadata": {},
   "outputs": [],
   "source": [
    "# # picture of vectorizer (will use sample)\n",
    "# dontwant = [\"\", 110, 220, \"3rd\", 4000]\n",
    "# review_sample = combined_df.iloc[:20]\n",
    "# vectorizer = TfidfVectorizer(analyzer=clean_text2)\n",
    "# y = review_sample['sentiment']\n",
    "# X = vectorizer.fit_transform(review_sample['review_body'])\n",
    "# tf_idf_df = pd.DataFrame(X.toarray())\n",
    "# tf_idf_df.columns = vectorizer.get_feature_names()\n",
    "# tf_idf_df[tf_idf_df.columns.all(dontwant)]\n",
    "# tf_idf_df"
   ]
  },
  {
   "cell_type": "code",
   "execution_count": 36,
   "metadata": {},
   "outputs": [],
   "source": [
    "# bigrams\n",
    "vectorizer = CountVectorizer(ngram_range=(1,2))"
   ]
  },
  {
   "cell_type": "code",
   "execution_count": 12,
   "metadata": {},
   "outputs": [],
   "source": [
    "# TFIDF Vectorizer\n",
    "# vectorizer = TfidfVectorizer(use_idf=True, lowercase=True, strip_accents='ascii', stop_words=stopwords)\n",
    "# vectorizer = TfidfVectorizer(analyzer=clean_text2)"
   ]
  },
  {
   "cell_type": "code",
   "execution_count": 37,
   "metadata": {},
   "outputs": [],
   "source": [
    "# dependent variable (0 or 1 for bad or good review)\n",
    "y = combined_df['sentiment']"
   ]
  },
  {
   "cell_type": "code",
   "execution_count": 38,
   "metadata": {},
   "outputs": [],
   "source": [
    "# convert reviews to features\n",
    "X = vectorizer.fit_transform(combined_df['cleaned_reviews'])"
   ]
  },
  {
   "cell_type": "code",
   "execution_count": 39,
   "metadata": {},
   "outputs": [
    {
     "name": "stdout",
     "output_type": "stream",
     "text": [
      "(200000,)\n",
      "(200000, 1492583)\n"
     ]
    }
   ],
   "source": [
    "print(y.shape)\n",
    "print(X.shape)\n",
    "# 767578 with uni + bigrams\n",
    "# 41208 unigrams\n",
    "# 726370 bigrams"
   ]
  },
  {
   "cell_type": "code",
   "execution_count": 40,
   "metadata": {},
   "outputs": [
    {
     "name": "stdout",
     "output_type": "stream",
     "text": [
      "skip if\n",
      "gauranteed and\n",
      "muso\n",
      "through fair\n",
      "the position\n",
      "diagnosing itbr\n",
      "enough red\n",
      "thisplease\n",
      "adhesive remover\n",
      "add penalty\n"
     ]
    }
   ],
   "source": [
    "import random\n",
    "# getting features for unigram + bigrams\n",
    "\n",
    "grams = vectorizer.get_feature_names()\n",
    "for i in range(10):\n",
    "    print(random.choice(grams))"
   ]
  },
  {
   "cell_type": "code",
   "execution_count": 41,
   "metadata": {},
   "outputs": [
    {
     "data": {
      "image/png": "[encoded data removed]",
      "text/plain": [
       "<Figure size 504x216 with 1 Axes>"
      ]
     },
     "metadata": {
      "needs_background": "light"
     },
     "output_type": "display_data"
    }
   ],
   "source": [
    "# update later\n",
    "plt.subplots(figsize=(7,3))\n",
    "plt.barh(['Bigrams', 'Unigrams'], [726370, 41208], height=0.6, color=['royalblue', 'orange'], edgecolor='black',\n",
    "        linewidth=1.2)\n",
    "plt.title('N-grams in Dataset', size=16)\n",
    "plt.xlabel('Count', size=14)\n",
    "plt.show()"
   ]
  },
  {
   "cell_type": "code",
   "execution_count": 42,
   "metadata": {},
   "outputs": [],
   "source": [
    "# test train split\n",
    "X_train, X_test, y_train, y_test = train_test_split(X, y, test_size=0.2, random_state=42)"
   ]
  },
  {
   "cell_type": "code",
   "execution_count": 43,
   "metadata": {},
   "outputs": [
    {
     "name": "stderr",
     "output_type": "stream",
     "text": [
      "/anaconda3/lib/python3.7/site-packages/sklearn/linear_model/logistic.py:433: FutureWarning: Default solver will be changed to 'lbfgs' in 0.22. Specify a solver to silence this warning.\n",
      "  FutureWarning)\n"
     ]
    },
    {
     "name": "stdout",
     "output_type": "stream",
     "text": [
      "Accuracy for C=0.01: 0.921975\n",
      "Accuracy for C=0.05: 0.933175\n",
      "Accuracy for C=0.25: 0.936325\n",
      "Accuracy for C=0.5: 0.937\n",
      "Accuracy for C=1: 0.936475\n"
     ]
    }
   ],
   "source": [
    "C_list = [0.01, 0.05, 0.25, 0.5, 1]\n",
    "accuracy_rates = []\n",
    "\n",
    "for c in C_list:\n",
    "    lr = LogisticRegression(C=c)\n",
    "    lr.fit(X_train, y_train)\n",
    "    print (\"Accuracy for C=%s: %s\" \n",
    "           % (c, accuracy_score(y_test, lr.predict(X_test))))\n",
    "    accuracy_rates.append(accuracy_score(y_test, lr.predict(X_test)))"
   ]
  },
  {
   "cell_type": "code",
   "execution_count": 44,
   "metadata": {},
   "outputs": [
    {
     "data": {
      "image/png": "[encoded data removed]",
      "text/plain": [
       "<Figure size 432x288 with 1 Axes>"
      ]
     },
     "metadata": {
      "needs_background": "light"
     },
     "output_type": "display_data"
    }
   ],
   "source": [
    "plt.plot(C_list, accuracy_rates, color='green', linewidth=3)\n",
    "plt.grid(b=True)\n",
    "plt.title(\"Logistic Regression Accuracy Scores vs. C\", size=14)\n",
    "plt.xlabel(\"C\", size=12)\n",
    "plt.ylabel(\"Accuracy Score\", size=12)\n",
    "plt.show()"
   ]
  },
  {
   "cell_type": "code",
   "execution_count": 45,
   "metadata": {},
   "outputs": [
    {
     "data": {
      "text/plain": [
       "LogisticRegression(C=0.5, class_weight=None, dual=False, fit_intercept=True,\n",
       "          intercept_scaling=1, max_iter=100, multi_class='warn',\n",
       "          n_jobs=None, penalty='l2', random_state=None, solver='warn',\n",
       "          tol=0.0001, verbose=0, warm_start=False)"
      ]
     },
     "execution_count": 45,
     "metadata": {},
     "output_type": "execute_result"
    }
   ],
   "source": [
    "# training Naive Bayes Classifier\n",
    "classifier = LogisticRegression(C=0.5)\n",
    "# classifier = naive_bayes.MultinomialNB()\n",
    "classifier.fit(X_train, y_train)"
   ]
  },
  {
   "cell_type": "code",
   "execution_count": 46,
   "metadata": {},
   "outputs": [
    {
     "data": {
      "text/plain": [
       "0.9758157282874268"
      ]
     },
     "execution_count": 46,
     "metadata": {},
     "output_type": "execute_result"
    }
   ],
   "source": [
    "# testing accuracy with test set\n",
    "roc_auc_score(y_test, classifier.predict_proba(X_test)[:,1])"
   ]
  },
  {
   "cell_type": "code",
   "execution_count": 47,
   "metadata": {},
   "outputs": [
    {
     "name": "stdout",
     "output_type": "stream",
     "text": [
      "[0]\n"
     ]
    }
   ],
   "source": [
    "reviews_array = np.array([\"the product was okay, probably will not buy again\"])\n",
    "reviews_vector = vectorizer.transform(reviews_array)\n",
    "print(classifier.predict(reviews_vector))"
   ]
  },
  {
   "cell_type": "code",
   "execution_count": 48,
   "metadata": {},
   "outputs": [
    {
     "name": "stdout",
     "output_type": "stream",
     "text": [
      "('wonderful', 2.375482307723073)\n",
      "('fantastic', 2.370819565735429)\n",
      "('best', 2.194904474996242)\n",
      "('just what', 2.1695042283159203)\n",
      "('beautiful', 2.1500684588565204)\n",
      "('outstanding', 2.129858584636687)\n",
      "('no issue', 2.0773002024669345)\n",
      "('excelent', 2.0766824033935167)\n",
      "('nice', 2.058212693656944)\n",
      "('good', 1.9812031055741421)\n",
      "\n",
      "('not good', -3.3881830331558875)\n",
      "('no good', -2.946403176441119)\n",
      "('doesnt work', -2.851414266177792)\n",
      "('horrible', -2.8293617157391693)\n",
      "('poor', -2.8129939889250406)\n",
      "('terrible', -2.787026968027005)\n",
      "('broke', -2.6827092643018706)\n",
      "('didnt work', -2.665810781687959)\n",
      "('junk', -2.66000338990619)\n",
      "('not great', -2.64807122140594)\n"
     ]
    }
   ],
   "source": [
    "# evaluation\n",
    "feature_to_coef = {\n",
    "    word: coef for word, coef in zip(\n",
    "        vectorizer.get_feature_names(), classifier.coef_[0]\n",
    "    )\n",
    "}\n",
    "\n",
    "for best_positive in sorted(\n",
    "    feature_to_coef.items(), \n",
    "    key=lambda x: x[1], \n",
    "    reverse=True)[10:20]:\n",
    "    print(best_positive)\n",
    "    \n",
    "print()\n",
    "\n",
    "for best_negative in sorted(\n",
    "    feature_to_coef.items(), \n",
    "    key=lambda x: x[1])[:10]:\n",
    "    print(best_negative)"
   ]
  },
  {
   "cell_type": "code",
   "execution_count": 49,
   "metadata": {},
   "outputs": [
    {
     "data": {
      "text/plain": [
       "array([[18722,  1285],\n",
       "       [ 1235, 18758]])"
      ]
     },
     "execution_count": 49,
     "metadata": {},
     "output_type": "execute_result"
    }
   ],
   "source": [
    "# evaluation\n",
    "y_pred = classifier.predict(X_test)\n",
    "cm = confusion_matrix(y_test, y_pred)\n",
    "cm"
   ]
  },
  {
   "cell_type": "code",
   "execution_count": 50,
   "metadata": {},
   "outputs": [
    {
     "name": "stdout",
     "output_type": "stream",
     "text": [
      "precision: 0.9358878411415457\n",
      "recall: 0.9382283799329766\n",
      "f1 score: 0.9370566490158857\n"
     ]
    }
   ],
   "source": [
    "# model evaluation metrics (precision, recall, F1)\n",
    "print(\"precision: {}\".format(precision_score(y_test, y_pred)))\n",
    "print(\"recall: {}\".format(recall_score(y_test, y_pred)))\n",
    "print(\"f1 score: {}\".format(f1_score(y_test, y_pred)))"
   ]
  },
  {
   "cell_type": "code",
   "execution_count": 59,
   "metadata": {},
   "outputs": [
    {
     "name": "stdout",
     "output_type": "stream",
     "text": [
      "http://slickdeals.net/f/13815848-adidas-men-s-argentina-home-soccer-jersey-xs-s-xl-2xl-33-75-free-shipping?\n",
      "nice deal but no l 1\n",
      "my wife is from argentina and i lived there for a couple year in for a few thanks op 1\n",
      "very nice deal for my favorite team jersey in for one 1\n",
      "too bad no m or l size 0\n",
      "same 1\n",
      "they run small fyi i wear large everything xl in these 0\n",
      "the most beautiful and iconic soccer jersey in existence in for one 1\n",
      "che boludos 1\n",
      "messi 10 0\n",
      "im a diego fan myself 1\n",
      "http://slickdeals.net/f/13816223-spigen-steadiboost-super-compact-qi-10w-wireless-charger-9-99-fs?\n",
      "look to be a pretty good deal 1\n",
      "usb c input cable im in for one 1\n",
      "fan of their case but fakespot f 1\n",
      "what doe that f tell you 1\n",
      "press f in the chat 1\n",
      "no ac adapter no deal a far a i am concerned 0\n",
      "fast i think 1\n",
      "paid review 0\n",
      "unless you really like the included usbc cable id go with this anker device 1\n",
      "difference 1\n",
      "5999 review v 69 1\n",
      "doe it still charge io device at 75w after 131 1\n",
      "http://slickdeals.net/f/13815983-xbox-lunar-new-year-artistic-adventure-sale-1?\n",
      "i see a plague tale innocence is being added to xbox gamepass tomorrow thanks i wa about to buy it 1\n",
      "yeah it a good idea to follow their account of twitter  1\n",
      " 1\n",
      "absolutely i use this site weekly it basically camelx3 for game 1\n",
      "project car 2 look interesting 1\n",
      "you can also set up sale alert which is handy 1\n",
      "can anyone comment on farcry 4 i thought it wa a aaa title why is full price only 20 1\n",
      "because it really old far cry 4 came out in 2014 0\n",
      "worth getting the deluxe for 450 more 1\n",
      "rainbow 6 siege is worth this all day 1\n",
      "agreed i seem to recall it getting panned at launch but it presumably ha been patched and is much cheaper so i might have to pull the trigger 1\n",
      "thanks i didnt know about that site i have site to follow pc game price but didnt have any for console deal 1\n",
      "http://slickdeals.net/f/13811195-samsung-galaxy-buds-true-wireless-earbuds-silver-galaxy-fit-150-free-shipping?\n",
      "better link so you dont have to hunt for the two item individually 1\n",
      "anyone tried cancelling galaxy fit after the order 0\n",
      "with epp it come out to 139 pretty slick in my opinion 1\n",
      "why would you want to cancel galaxy fit youd be overpaying for bud 0\n",
      "sometimes it may give 100 back for the fir in that case youll be paying only 50 for bud 0\n",
      "im getting 16999 0\n",
      "discounted price didnt show for me until i went to cart for checkout 0\n",
      "my bad lol thank you 1\n",
      "go all the way out to check out and itll show 14999 1\n",
      "for student military etc log in and your total would be 13874 not including tax of couse 0\n",
      "good deal 1\n",
      "doe using samsung pay to pay on the samsung website yield any bonus reward 0\n",
      "i logged in and didnt see the extra discount still 149 edit took a couple of refreshes and finally see the discount 1\n",
      "not really sure if it a that good of a deal is the galaxy fit worth 5060 1\n",
      "and is it really necessary 1\n",
      "i think you are confusing these with the gear iconx those were the 1st gen 0\n",
      "it a cheaper alternative for fitbit i guess maybe even more so for those in the samsung ecosystem 0\n",
      "could always give a a birthday gift like what im thinking of and keep the bud for myself 1\n",
      "youre so wrong galaxy bud are the latest bluetooth earbuds from samsung and the aura glow color is the newest color for the galaxy bud which just came out last year with the note 10 release edit additional info 0\n",
      "and that my friend is called beating the system why would you want to do that 1\n",
      "why would you not want to beat the system 1\n",
      "if youre actually lookinginterested in both item it an ok deal in my case i dont need the tracker and i wa thinking about reselling it but theyre only 60 brand new on ebay so id be paying 100 just for the bud which it what they run for right now bottom line im my personal case this deal it pretty pointless with ebay shipping and fee id get like 50 if i decided to sell the tracker if lucky mind you this deal will work for a lot of people 0\n",
      "i can not activate more discount by unidays tried many time 0\n",
      "these are great bud been using it with my s8 for about 6 month now and syncs perfectly 1\n",
      "any idea how they are with other android device 0\n",
      "why want you would not system to the beat 0\n",
      "these are great bud a ive been using them since i got free with my s10 last year only stopped once i received my jabra 75t from the preorder deal 1\n",
      "how much can you flip these for 1\n",
      "175 1\n",
      "my unidays and referral discount are not working 0\n",
      "use employee account 1\n",
      "great deal thanks 1\n",
      "ordered thanks 1\n",
      "he worded it wrong it called abusing the system aka looking for unintentional loophole to take advantage of others it not morally correct and people with conscious or selfrespect wouldnt really dirty their hand over a few buck in saving im not judging just factually speaking people are free to do what they believe serf their interest the best 0\n",
      "whatever slave how much doe this plastic junk cost to make le that 50 for both probably there is no morality in a for profit dog eat dog system 0\n",
      "been using mine with a pixel 4xl and theyre working well i tried installing the samsung ecosystem with additional app for the bud but couldnt hear much difference so i just use them a regular bud 1\n",
      "have they improved on the quality using the bud with phone function i had a pair of them and they were great up until they were stolen only downside wa phone call quality sucked didnt bother me much a i dont use my phone that way often 0\n",
      "if i tried to sell you a piece of plastic for 1000 it doesnt give you the right to rob me just because you dont agree with my pricing there is something called boycotting which is a practice of refusing to buy product and service youre not in agreement with youre just a cheater with nonsensical logic trying hard to justify his inexcusable action 0\n",
      "can i flip these 1\n",
      "doggone it i had a 150 credit from my note 10 that i wa holding onto but it expired at the end of december so i had to finally use it why couldnt samsung have offered this combo on bf 0\n",
      "would the discount apply if i want to switch the fit for one of the watch 1\n",
      "not worth it even after discountyou can easily find these price on eb 0\n",
      "i have owned galaxy fit and other samsung watch these thing are not very polished the software and the user interface isnt well thought out i have desperately wanted to like samsung product that involve their software i have given up they pay minimal lip service to usability 0\n",
      "only work with new account 0\n",
      " 1\n",
      "doe anyone know if samsung added vo2 max data functionality for their health data collection with this device i cannot find anything online about it just that fitbits version of this device ha it 0\n",
      "do these two item work in tandem for example can you store music on the fit and play it on your earbuds or are they just bundling two random device together 1\n",
      "had horrible experience with fit wouldnt recommend it at all mine broke within the year had to get it replaced by sending it to samsung and only last 45 month after the fix will never buy samsung gear 0\n",
      "make a student account with edu email total price will be 1425 0\n",
      "mi band 4 is 20 and a superior product lol 150 1\n",
      "yup that work 1\n",
      "dont know about 20 more like 30 even on aliexpress 0\n",
      "http://slickdeals.net/f/13815878-adidas-ultraboost-s-amp-l-running-shoes-80?\n",
      "ooo these are nice too bad i have a pair of uncaged that i havent worn yet otherwise i would probably bite on these 0\n",
      "purchased thank you 1\n",
      "how is sl different from regular ultraboosts 0\n",
      "theyre made of suede leather 1\n",
      "the sl line ha suede and leather a opposed to the prime knit in regular ultra boost 1\n",
      "suede and leather 1\n",
      "this is more of like the og look and it is suede on some area of the shoe 1\n",
      "these still breathable 1\n",
      "theyre the updated version of the original before the ultraboost 19 were a thing 0\n",
      "not sure if they are more comfortable than the original i have the 2018 ultraboost uncaged 1\n",
      "i tried these on the other day at finish line unsure if it related to my slightly wide foot but i thought the grey three stripe area on the side puffed out too much when i tied the shoe i ended up not getting them i also think they are slightly le comfortable than the 19 i wear a size 12 in the 19 and tried on a size 12 in the grey pair posted 1\n",
      "got my first pair of ultraboosts from a local outlet mall for 65 love these shoe you can put them on without tyinguntying them too 1\n",
      "i have wide foot and sized up a half size 105 instead of 10 most comfortable shoe ive ever owned debating buying another pair grey go with everything 1\n",
      "if you want the most comfortable shoe with durable quality get a pair of asics beat all the other brand ive tried in term of comfort and build quality i personally use the asics gel quantum way more comfortable than adidas 1\n",
      "5off75rmn code for 5 off 0\n",
      "i have both sl and the regular ultraboost sl is not a comfy the top is more stiff still nice shoe especially at this price but if you are used to the regular ub these would be a step down in term of comfort 1\n",
      "why dont they carry 14 0\n",
      "how is breathability for regular v sl 0\n",
      "or if you buy 2 15 off 150 15newyear150 0\n",
      "i worked in the shoe department at dick sporting good for 5 year while i wa in school i always felt bad for the people with big foot most of the cool shoe only went up to a size 13 im not sure if thats the same case now day or not 0\n",
      "what if we buy 2 and return one at the store do we still get the 15 discount 1\n",
      "i put on every single pair of shoe i own like that other than boot who bother to tie shoe every time you put them on thats a waste of your life for virtually zero benefit 0\n",
      "how easily do these get dirty and how hard to clean 0\n",
      "comfort is a benefit some people prefer to have their shoe fit snug and tied spending le than a minute to ensure that your shoe are more comfortable to you for the rest of the day is a pretty small price that being said i also slip on all of my shoe and dont feel the need to tie them 1\n",
      "great deal thanks op 1\n",
      "80 out the door at my local mall with that 5 off code thanks op and code poster 1\n",
      "only small size left 0\n",
      "check again 1\n",
      "deal is dead 0\n",
      "this may be true but because the top is stiff they look more like regular shoe and le like sock i have the all navy blue pair and theyre super dope the suede and leather is real nice in hand 1\n",
      "i feel like any shoe will get equally dirty a much you wear it and where youre wearing the shoe at anything is easy to clean with the right cleaning product 1\n",
      "not true link doesnt work but search for ultraboost on the site and it will show up i wa on the fence at 100 but 80 is a great deal snagged a pajr 0\n",
      "if your foot roll outwards while your walking i could see the suede and leather wearing out quicker than the prime knit ultra boost 1\n",
      "just ordered a pair with 5 off code 0\n",
      "how is sizing versus nike normally a 105 in nike 0\n"
     ]
    },
    {
     "name": "stdout",
     "output_type": "stream",
     "text": [
      "http://slickdeals.net/f/13815611-boston-to-barcelona-spain-191-rt-nonstop-airfares-on-iberia-level-limited-travel-march-and-october-december-2020?\n",
      "can anyone explain why rocbos is 139 and bosbcn is 191 but the same flight rocbcn is 1250 0\n",
      "awesome deal 1\n",
      "the magic of airline pricing 1\n",
      "always dry for dallasfort worth or crazy expensive 1\n",
      "flew to barcelona february of 2019 via level worst traveling experience of my life didnt help that when we booked our ticket it wa iberia our confirmation said iberia our online boarding pas said iberia wasnt until we arrived at the airport and saw no iberia that we found out it wa their newly launched budget airline level it wasnt just u either everyone wa looking for iberia to check in would have gladly paid much more to not be on that flight 0\n",
      "if it on the same airline or a partner alliance you can request they check it all the way through to bcn in this case done it multiple time 0\n",
      "any babe in barcelona 1\n",
      "yes level is pretty bad flew oakbcn last year on norwegian then bcnsfo back on level and the experience wa vastly different unlike most we found the level flight crew to be ok but everything else wa terrible they didnt know how to check u in boarding took forever the in flight product wa bad etc norwegian on the other hand wa better than expected 0\n",
      "come to colombia if you want babe 0\n",
      "didnt know about that thanks 1\n",
      "i had a fantastic experience doing the same new plane easy flight fantastic flight time and price i did know it wa level going into it but curious on what you were disappointed with 1\n",
      "i noticed the flight bcnsfo are via li wa yours a direct flight or 1stop if it wa 1 stop did you have to transfer your own luggage 0\n",
      "just in time to watch the catalonia rebellion 1\n",
      "at least their plane still fly level unlike some plane that like to plow max speed into the ground 1\n",
      "yeah but that wa going on all the same 2 year ago we didnt spend the whole time in barcelona but all we noticed wa every other house had the catalonia flag on it it not like they are protesting every day 0\n",
      "anyone know the weather this time of year octnov 1\n",
      "level is the low cost brand created by iberia even their flight number use ib you get for you paid for 0\n",
      "i think we flied level but this wa 2 year ago when it wa really new what wa the problem just curious dont want to fly again if it wa bad but i literally popped pill and slept both way didnt even get up to pee and we flew lax to bcn if i recall you got a screen im 64 and i slept fine there were movie if you wanted it wa clean but i didnt get up once so i cant say much more than that maybe it wasnt the most roomy but i wa up and walking 10 mile a day visiting site in europe in no time and i am no particularly athletic no jet lag either but man you gotta stay medicated on your flight i have a huge bladder that need frequent unloading when hydrated but i didnt pee once either way more than 12 he i believe lax to bcn bcuz i didnt overhydrate and stayed medicated when id lift my eye mask and see people walking around or with their eye dead open midflight im like wtf there are pill for your problem brother and sister this plane wont go down if you fall asleep rest assured wait whats on think wing ahhh 0\n",
      "go to almost any latin american country man plenty of hispanic beauty  1\n",
      "seriously if thats your only criterion just goyou will not be disappointed 0\n",
      "mine wa nonstop but it wa last feb so i dont know if they still fly it also it wa only 3 day a week i think 0\n",
      "thumbnail made me think it wa a trip to disney in spain 1\n",
      "flew this flight last fall it a no frill airline but youre traveling to barcelona for literally le than a trip to florida bring a water bottle some snack from the airport and sleep on the way over the worst part wa the people complaining they werent given free drink on the plane a the flight itself wa perfectly fine 0\n",
      "we have flown iberiaas well definitely the worst flying experience weve had we gave them a new motto were iberia we dont hear ya 0\n",
      "http://slickdeals.net/f/13812089-eufy-security-eufycam-2-1080p-16gb-wireless-home-security-system-w-3-cam-350-free-shipping?\n",
      "why thumb down 0\n",
      "promo code worked  1\n",
      "i got same deal from best buy when it wa first released these are the best camera i had so far great customer service experience and amazing product 1\n",
      "someone probably thumbing down because it not free 0\n",
      "16gb i guess it fine since it doesnt do continuous recording 0\n",
      "usb storage expansion via usb port on the back of the homebase to be enabled via firmware update for those folk who have na the homebase support rtsp today 0\n",
      "finally here it come again 1\n",
      "delete 1\n",
      "anyone what a good review of the 2 v 2c trying to decide if it worth the upgrade for this 1\n",
      "i wa afraid to buy when it first came out since there werent a lot of review and the same kind of deal been following and found one guy who ha reviewed both on youtube but not side by side so you gotta watch both and make your own decision on which you like most cam2 2c 0\n",
      "same deal currently at best buy extra camera is automatically added to cart at checkout 1\n",
      "is this the best price it been 1\n",
      " 1\n",
      "but doesnt that drain battery fast these are designed only to record motion alert if you have a lot of motion it very likely to drain battery fast right na is a good idea but i prefer one that can record to cloud storage or ftp if it doesnt come with microsd expansion not having to wire is a huge benefit though if these are really nicely sealed thats a big plus i wanted to drill through my brick wall and install wyze outdoors with a housing but decided not to do it since people said there wasnt one true waterproof casing for those unless you put them in a box 0\n",
      "correct even if you enable rtsp it will only record video during motion alertsnot 247 streaming video they are nicely sealed ip67 rating 1\n",
      "promo code doesnt work for me edit you must add the add on camera to your cart first work 0\n",
      "yup previous deal for a 3 cam setup that deal 279119 398 been waiting for the 279 deal again this beat it with 3 cam street fighter voiceyou win perfectzstreet fighter voice 1\n",
      "curious why anyone would prefer cloud storage more chance of video being hacked i prefer more control by having local storage i own this model and it been doing a great job can access alert and recorded video or live feed from any location on your phone and the mobile app is a great app providing complete control over the camera and video support is very responsive to question or any issue and they seem to update thing pretty often had mine for almost 2 month still showing 100 battery and thats with me playing with it a lot and fine tuning the setting to my liking 1\n",
      "not that great of a deal really they have been cheaper no one would buy these at 500 wait until tax time 1\n",
      "im in the same boat i really only need two camera so the free extra camera isnt super useful i guess i could stash it until i move or one of these crap the bed  0\n",
      "anyone know how well this work with blue iris i know the video wont be always on but i want to be able to capture it somewhere other than the cloud and not be limited to the 16gb in the base also can the doorbell cam sync with the base i dont like the idea of it only going to the cloud itd be great if the video could be routed through the base to blue iris since i dont believe it support rtsp edit found some post on reddit sound like rtsp only work on 2 cam not sure if thats changed recently also the doorbell cam doesnt integrate with the base at all le interested in this deal now 0\n",
      "whats the max amount of cam supported with one hub 0\n",
      "in my case this is perfect cuz i really need 3 front door back deck garage just ordered super excited a a reminder for apple nerd this is homekit secure video compatable so free cloud storage 1\n",
      "ideally id have an offsite storage that i control rather than cloud but cloud offsite storage are usually preferred so that your recording cant be stolen or destroyed cant identify thief if they take your base station and the clip might have valuable information after a disaster too 0\n",
      "wheres that deal even in the past for 3 camera cheaper than 349 1\n",
      "16 camera 1\n",
      "great i need four so will get this and wait for a 1 camera sal 1\n",
      "can anyone speak to the range negative review mention how these need direct connection to the base and dont use your wifi network which make the connection spotty depending on your application 0\n",
      "i think the base will support only 2 camera on one of the post on sd some people mentioned that in earlier post basically you can not add the 3rd one we are getting for free to base what is the big deal of getting the 3rd one 0\n",
      "lot of negative review about the distance each camera can be placed from the home base think ill hold off since i want front and back coverage and that might be more than the 18 max 1\n",
      "this model is supposed to have a longer range for the camera than other model the home base can connect to your router via ethernet or wirelessly the camera talk to the home base and the home base connects to your router internet so you can receive mobile alert and view video from any location no range issue for me but if there are you can try and move the home base to a central location between your camera i havent had any range issue but everyone house is different 1\n",
      "this model ha what i believe they call repeater mode which is supposed to extend the range of the camera i have a split level my router and the home base is in my lower level both my camera in front and back door showing full bar signal back door is probably at least 20ft away from the home base through a brick wall the home base can connect wirelessly to your router so home base can be moved to a central location if you have a huge house and have any range issue both my cam show full signal to both so no range issue at all for me 1\n",
      "not trying to troll but at this price is it just an arlo knockoff 0\n",
      "can connect up to 16 camera to the home base getting a free extra camera is pretty nice so you can add one to your front door back door garage or driveway or out on a tree in your front yard 1\n",
      "review seem to indicate it a better camera in a number of way over the arlo 1\n",
      "thanks ill give them a try since i have the eufy doorbell already sound like it can work 1\n",
      "hi kaladin arlo doe not have an rtsp feed which can be a major disadvantage if you want to not be tied to the cloud and beholden to the company providing the cloud service 0\n",
      "another chinese camera system that call home put one over your bed people 1\n",
      "got it thank you unfortunately dont have the time to build my own so im looking for the most turnkey solution even if it mean being beholden to one company 0\n",
      "hi kaladin these should be turnkey rtsp is just another option for people 1\n",
      "doe it do you have a link regarding this thanks 1\n",
      "it say this on the amazon link you can add up to 4 eufycam 2 to the homekit system where did you find up to 16 1\n",
      "fyi best buy is offering the same deal for those that dont like amazon just add the 2 cam set and then the extra camera to your cart 0\n",
      "i ended up getting this deal hopefully it work better than the amazon cloud cam i currently have thanks op 1\n",
      "is this recommended over the 2c model seem to be the same price 1\n",
      "i think it depends on what you are using it for the 2c camera have half the battery life and doe not come with a antitheft alarm feature if you use then 2c mostly indoors where people arent tempted to steal then maybe 2c is worth it the 2 model ha an improved sensor but i havent compared the difference at night 0\n",
      "anyone who owns this could you tell me if there is a cool down period between alert 1\n",
      "there are three camera working mode that you can select per camera 1\n",
      "could i able to connect this base station wireless or wired connection is required for this to work  0\n",
      "wired to setup then you can unplug and go wireless 1\n",
      "i have both the 2 and 2c model and no they dont really have a cool down mode ive seen them record a minute apart i prefer the 2 model over the 2c it a pretty good camera system for what it is and from my research into this type of battery camera system between ring arlo blink reolink and couple others this is a better system depends on what you are looking for battery operated and is supposed to last 365 day lot longer than others but of course it depends on how many alert per day and recording time good day and night vision it a 1080p camera so someone spotted in le than 25ft or so you can get a decent image local storage of video military encryption good mobile app for complete control over the camera and video you easily download a video to your phone or do a screen print from your phone ha an antitheaf siren built into the camera so if someone try to steal it had human detection and activity zone to limit false alarm no contract or monitoring fee cloud storage optional for a fee but i wont use that other goody 1\n",
      "i would be putting them outdoors is the battery removeable or do i have to unmount the whole camera to charge if battery is easily removeable i guess charging it once a year v multiple time a year isnt a big deal just wondering if having night time color is such a big deal 0\n",
      "hi shmegal what vendor are calling night time color camera are basically camera with superior sensor that allows you to typically leave them in normal light mode when it get dark le sensitive sensor you had no other option but to use ir led illumination to see in low light many of these so called color night vision camera actually still retain ir led so you can actually have an even better and sharper ir illuminated black and white image so yes having a camera capable of remaining in color around the clock is significant and even if you opt to have it go into bw ir mode you will get superior image 1\n",
      "thank for the reply and what about theft it look like stealing these is a easy a turning the camera counterclockwise until it unmounts are there more secure mount 1\n",
      "hi shmegal if youre worried about theft then the best option is to go with a quality wired system and install them with 12 long screw into a stud solid wood or similar normally the screw included are a bit too short for a good deep screwed in setup imho so i locate a stud and drive a 3 screw or 2 in i prefer ip poe myself 1\n",
      "i appreciate your feedback i guess i will opt for this thanks 1\n",
      "for anyone getting these hoping to mount and record parallel to the mounted wall i recommend the arlo mount a they have a lot more flexibility in term of rotation 1\n",
      "no battery is not really removable but it a rechargeable battery since eufy is an anker company i imagine they are using anker rechargeable battery ive been using anker battery pack charger for year they are top of the line in my opin these do not do color vision at night unless there is enough light i have motion light in front and back so i turn off ir mode to force the camera to do color when my light come on much better picture in color now if it completely dark and you use ir mode it would show a bw picture so if someone is relatively close you can get a decent image but not a good a more light and color image so i recommend people put up motion light and turn ir mode off for a better pic at least thats how i use them 0\n",
      "nope have a look at youtube review it better than arlo 1\n",
      "2c also ha shorter range 0\n",
      "according to the review the camera are connected to the homebase only range is about 8 meter if there a wall in between and not directly to your home wifi network so how do you setup 3 camera with 1 homebase if you want to use them for the frontdoor and backyard 0\n",
      "thanks op just ordered this 1\n",
      "just because battery last 365days doesnt make it 350 worth please research better deal and skip so the manufacture will lower their unreasonable price there are 35 cam with way more benefit and le limitation wyze is on the right track with consumer in mind therefor i invest in their cam yes battery is easy but is it worth overpaying 1\n",
      "wyze is a very good value but for a turnkey setup this is pretty good how do you set up a battery pack for wyze wyze only record at 720p or other lower resolution and upscales to 1080p even before learning this ive always felt the audio and video is a little underwhelming for those who dont want to or dont know how setting up a bay station is an additional step do you have issue with scrolling timestamp v watermark timestamp it is painful to accurately scroll to other event how do i go from a triggered event to the rolling sd card storage dont get me wrong i own and like wyze and this is quite expensive though not arlo level but there solid value here for a 3camera ip 65 newest system from eufy i also have an like their doorbell 1\n",
      "im looking for local noninternet connected solution for live viewing from same place doe anyone ha any recommendation i have several cloud based solution if i watch them live shitfinity sends bandwidth exceed message and charge for extra internet bandwidth 1\n",
      "are they a lot better than arlo we got the original and theyve been a dismal failure one loses connection after a couple day oddly enough it the one close to the base the others more or le work but are unreliable looking for a decent replacement 0\n",
      "i never had any connection issue ive been using them since nov i had many issue with nest camera nest doorbell and nest hub max where they were unable to reconnect after loosing wifi signal with nest i had to restart wifi router many time i dont have arlo but my friend ha them and i compared the quality eufy is far better 0\n",
      "nice thank you itd be nice to have a wireless camera that actually work wirelessly so disappointed in arlo 1\n",
      "no connection issue either the notification work well 95 of the time during the day and i would say 7580 at night nigihtime need some additional lighting in order to pick up thing better the floodlight however work 100 much better than nest and ring would highly recommend 1\n",
      "i thought only the 2c had a floodlight 0\n",
      "i wish they have a 2k version 1\n",
      "you are right only the 2c ha the flood light i never use the flood light on mine though 0\n",
      "i have the hub with 2 camera and they are great got them from their kickstarter day 1\n",
      "hi matt i wonder why the wd readyview 4 cam with 2tb purple hd whose base connects up to 8 poe cam all for 199 isnt more popular doe anyone have experience feedback with these if not batterywifi operated it easier for me to run cat56 then to run powerbox to cam thanks john 0\n",
      "hi matt im looking at security cam a i received a ring security floodlight cam with pro chime from costco a a christmas gift but i dont want to be tied to cloud and amazon monthly charge also this requires running powerbox for the flood ideally battery powered wifi cam are easiest but then i too am leaning to poe cam a it easier to run cat56 and i would think it would eliminate wifi delay and also permit 247 video streaming v shorter battery powered video clip im curious why the wd deal with 4 poe cam 2tb purple drive with base for only 199 isnt more popular johnc 0\n",
      "doe this system do sound 1\n",
      "hi johnc if youre on a tight budget i think that wd deal for 200 for what look to be a complete 4 camera and nvr 2hdd ip poe kit is a really good deal sam88 typically only post good kit camera nvrs so imho worth it do look for note here or on ipcamtalk about wiring it up to avoid water dripping into the connector 1\n",
      "thanks op returned my previous amazon purchase 2 cam set at 20 off luckily my procrastination of not setting up system and leaving it unopened paid off and upgraded to this 3 cam set 0\n",
      "eufy cam do sound but not the wd there is coax sound inout on the wd nvr but i dont believe wd cam support sound 0\n",
      "i personally have used both the 2c had better motion detection maybe just the placement on the housing v the lense both are pretty equal in the night vision dept in pure darkness really not that spectacular on a porch with a dim porch light on both work great the led flood on the 2c is pretty useless the range of the 2 from homebase wa the biggest difference other than battery that i personally experienced the 2c with the homebase in the exact same spot could not get a connection to a 2c camera at my shed probably 100 out back the 2 ha zero issue keeping a solid feedconnection 0\n",
      "my base is wired to my router in the center of my 50 brick ranch wall are plaster hardcoat with metal lathe exterior wall are solid brick i have zero issue with a 2 cam mounted on the back wall of a shed approx 100 out in the backyard 0\n",
      "nice thanks for the review do you still have both or switch do you use both home base or candid you combine them 1\n",
      "just got mine and the add on camera is not new it clearly been opened it also ha two magnetic indoor mount instead of an outdoor and indoor mount the base and other camera appear new and are sealed what a let down  0\n",
      "i returned the 2c set and bought the 2 cam 2 set 0\n"
     ]
    },
    {
     "name": "stdout",
     "output_type": "stream",
     "text": [
      "http://slickdeals.net/f/13815212-gerber-gdc-zip-blade-amazon-8-34-after-coupon?\n",
      "791 with s 5 discount 5 item or more in your s order 1\n",
      "it look like they are matching walmarts 862 price with 28 pickup discount i guess doing the coupon stop the undercutting cycle we used to see that would keep dropping the price 1\n",
      "it the lowest price by 016 before coupon it been within 1 about 8 time in the last year each instance lasting 12 week coupon history unknown 0\n",
      "a box cutter if you search amazon there a bunch of option for other brand this price is comparable 1\n",
      "lot of bad review about quality and difficulty opening the knife ill pas 1\n",
      "yeah they started doing that a while back unfortunately 0\n",
      "i havent tried this unit but i prefer something difficult to open when im keeping it in my pocket with my key dont want it unintentionally opening and then slicing my finger when i reach in to grab my car key or worse yet poking it blade into my junk 0\n",
      "i hang my key off by beltloop i hope the disconnecting clip can withstand all the motion going on in that area 1\n",
      "im sure this is better quality 1\n",
      "i have this on the coat im wearing right now it a nice idea but tbh ive never actually used it for anything the blade is pretty stiff to open and quite short about 12 0\n",
      "it will i have had this on my key chain for year and have never had any problem with the clipit is very secure 1\n",
      "i got this before for cutting open plastic packaging and stuff the blade itself is nice and sharp however getting a good solid grip on this is actually a little difficult for opening amazon package and cutting tape it fine but hard plastic packaging is a lot more difficult than a traditional box cutter i have average sized hand 0\n",
      "i like the i have used them for year just a little bigger than a box cutter blade when folded and it ha never opened up on it own in my pocket i especially like that the blade is replaceable with standard box cutter blade i dont worry about trashing it 1\n",
      "ill recommend they stick with the baby formula 1\n",
      "overpriced box cutter with a nonreplaceable blade thanks but not thanks 1\n",
      "it work a it should only open when you want and only close when you want only issue is forgetting to close it befor putting in your pocket 1\n",
      "no issue with the clip breaking only disconnected it a few time clip can be removed and just use the ring supplied 1\n",
      "lol can you imagine a selfinduced vasectomy 1\n",
      "this thing is terrible i carried mine for le than a month before it fell apart and couldnt be put back together a it broke a key mechanism dont waste your time and money on this deal 0\n",
      "8 for a razor blade  1\n",
      "you keep your belt on during sex 1\n",
      "ya a bunch of baby  1\n",
      "i still wouldnt trust gerbers quality for something a simple a this 0\n",
      "i owned this unit a few year ago tried to use it a a box cutter but the blade spine is too thick compared to standard box cutter so it doesnt slice nicely in fact when you give it too much torque it can lock into it own locking mechanism and not be able to close again which is what happened to me i had it replaced but the new one had some problem too that i dont remember and i ended up throwing the thing away 0\n",
      " 1\n",
      "http://slickdeals.net/f/13815290-jet-j-41002-2-inch-by-42-inch-3-4-horsepower-bench-belt-and-8-inch-disc-sander-322-70-fs-prime-members-amazon-35-off-list?\n",
      "solid deal on that track thanks 1\n",
      "i just dont see the value in that sander personally 1\n",
      "make cleaning up cut especially curve easier than using hand sanding or even a orbital sander most of my project would take significantly longer to do if it wasnt for my sander 1\n",
      "what do people use those long 12belt sander for i never ran into a need for one that my belt sander or spindle sander couldnt handlei mainly do larger piece so maybe thats why i never needed something like this just generally curious seems like it would have a specific use 1\n",
      "the narrow belt sander are often used for metal working belt grinder are a great way to clean up weld and even shape piece im not sure if this machine is suited for that type of work a it generally requires a backing plate where your work table meet the belt but for knife shapingsharpening this would probably shine 1\n",
      "i have the ridgid oscillating beltspindle sander it 200 and can do curve ive made knife on it etc this one may do a few thing the other cant and vice versa but it 60 percent more 1\n",
      "when i started making money doing woodworking on the side i found that cheapening out costed more money in the end if you arent using it commercially a cheaper brand will be fine but the customer service between jet and rigid are completely different getting equipment back running fast is the single most important part of buying equipment that make you money both grizzly and jet have never let me down in customer service quality it all come down to what you are doing if you are not ever going to recoup that 60 then yes not worth it 0\n",
      "perfect timing thanks 1\n",
      "id certainly like a larger more solidaccuratepowerful version of my hf cm benchtop sander but cant justify 4x the price i am trying 1\n",
      "a lot of pro have the ridgid man and i do make money woodworking just saying i have been eyeing this type of combo for the disc mainly but see used smaller version for 150 all the time this jet obviously is a quality tool but seems a bit high for what it is especially at 500 lol grizzly is on the cheaper end of the spectrum im suprised youre lumping them in with jet my next purchase is a helical jointer and ive been eyeing grizzly a they are a bit cheaper then jet or pm 1\n",
      "i have a grizzly planer and band saw id say theyre every bit a quality a jet 1\n",
      "i have a 8 grizzly jointer with helical head i replaced a old jet 6 i bought second hand and had problem with the table staying coplanar got a heck of a deal on the grizzly and since then have bought a bandsaw and a pan and box brake from them although my planer belt sander and dust collector are from jet havent noticed a difference in quality of customer service between them 1\n",
      "good to know 1\n",
      "guess thats why i never had the need for one i see them all the time wa just curious 0\n",
      "for a knife maker this is interesting a a woodworker 8 is a bit small 12 is more common for woodworking abrasive 1\n",
      "nice deal on the track thanks 1\n",
      "hard to believe this is nearly 4 time better than the harbor freight 1 belt 5 disc for anyone but a moneymaking metalworker and maybe not even then metalwork beat up machine the 8 size disc also seems odd to me i thought 6 and 12 were the most common but maybe this is a popular metalwork size i havent done any real metalwork since high school just a few little modification project i could do with hand tool file drill etc 0\n",
      "disc size are all over the map and it sometimes really frustrating i have a grizzly 6x48 belt with a 9 disc finding disc online isnt an issue but there no hope of sourcing them locally for me my experience with cheaper tool verse higher end one ha never failed to be at first im so proud of myself for saving the money and buying the cheaper and at first the tool suit what i believed my need to be perfectly but the longer i use it the more i realize it limitation and shortcoming and inevitably i find myself regretting the purchase ive never regretted a purchase when i skipped the cheap and went straight to the quality my advice is always if you can afford it buy the nicer tool even if you wont use it all the time if you cant afford it consider waiting if you cant afford it and cant wait get what you can get because using cheaper tool that you have to work more carefully on and often work on can teach you so much and help to improve your skill 1\n",
      "thats no deal at all 0\n",
      "table generated by stgs vb code table v0171 stable o31 1\n",
      "im with you there it better to just save up and buy quality better yet if youre not in a hurry you can find some really quality tool used on facebook marketplace or craigslist 1\n",
      "i have the identical craftsman one of this it brand new and i found it on the curb when someone wa doing garage cleaning up i wa amazed that it worked and the belt ha no mark on it whole thing is brand new lol score 0\n",
      "hell ya 0\n",
      "fyi 1\n",
      "thats a really good point and you know it funny because right before this i wa thinking about how it usually worth it to buy a nice version of the thing you needwant if you can afford it eg a nice leather bag over a cheap walmart nylon bag because it will probably fit your need better and last much longer ive found that to be true with tool too though of course there are diminishing return i cant imagine a veritas 4 plane could be over twice a good a the bench dog one i just bought from rockler though im sure it a very nice refined tool and better than the bench dog in all the detail a couple of caveat though there are some surprisingly good value out there like the irwin marples chisel everybody seems to love that ridgid oscillating sander too need to get myself one on sale and sometimes it hard to know what you really want in a tool or anything else until you use one that doesnt quite make you happy it been true of my shop tool so far and definitely true of my kitchen tool i only appreciate the detail of my nice japanese gyuto because ive used chef knife at nearly every price level below it 1\n",
      "motor doesnt last very long for 400 it should last at least 20 year 0\n",
      "narrow long belt are great for us that will generate a ton of heat like metalworking or working with very hard wood if youre generating too much heat on the belt you can burn the belt andor workpiece personally though id have a hard time justifying 322 for a 2x42 that isnt adjustable the 120ish grizzly 1x30 or even the wen or hf make more sense for light use and if youre making heavy use of it for blade smithing youre more likely to spend 600 on an adjustable 2x72 without the disc 1\n",
      "i wa in for onebut after reading the 26 1 2 3 star amazon review ill pas ive had excellent luck with all my grizzly tool and will likely opt for a grizzly g1183 1\n",
      "buy once cry once for the big purchase sometimes though if it is cheap enough to get you rolling sometimes buying good enough wear them out and then buy better version of what you wear out clarifies what you actually needed in the first place 1\n",
      "then just buy an inexpensive model and trade up when you can justify it ive done that with plenty of hf equipment that i can usually sell at 1234 of what i paid for it which probably more than cover depreciation 1\n",
      "indeed it doe have a backing plate that run about halfway up from the work table pic make it hard to see but it there 1\n",
      "which ridgid 1\n"
     ]
    },
    {
     "name": "stdout",
     "output_type": "stream",
     "text": [
      "http://slickdeals.net/f/13815887-harry-potter-and-the-goblet-of-fire-illustrated-hardcover-19-19-amazon?\n",
      "id like to edit the title to add the price and location but cant figure it out anyone know howif i can do that 0\n",
      "unfortunately at this time it not possible to update the title from the app i updated it for you 0\n",
      "seems like a good price thanks op 1\n",
      "nice price too bad we have to wait until 2021 to get the next book 1\n",
      "perfect timing already picked first three with buy 2 get 1 free offer earlier this week 1\n",
      "is this still available 1\n",
      "anyone know why this is categorized in range hood appliance on amazon 1\n",
      "look like it is still available 1\n",
      "nice thanks 1\n",
      "i just picked this up along with the first 3 that are all qualifying for the b2g1 free offer at amazon my total cost wa 6447 for all 4 book this way 0\n",
      "just looked it up and it appears it is still a valid offer 0\n",
      "it is showing up a a b3g1 free and no longer a b2g1 deal for me however i wanted to buy all 4 book anyway so the final price ended up the same 6447 before tax ie 4527 before tax for book 1 through 3 1\n",
      "i wonder if i wait these will drop under 10 like the first one did or if this is a good a it get 1\n",
      "i bought but the coupon even though it wa clicked didnt seem to apply 0\n",
      "yea same here had to use another device to purchase 0\n",
      "it buy 2 get 3rd free not buy 3 get 4th free amazon like to confuse the hell out of people 0\n",
      "i usually run into this with coupon on s item for some odd reason it usually take two click even when there a checkmark in the box it not officially applied for some reason unless i check on it again and the box go away and turn to green 0\n",
      "2 year ago there were some deal on these book and i think i got the first 3 book ranged from 1015 each 0\n",
      "amazon show the category of this item a appliancesranges oven cooktopsrange hood is it because of the word goblet and fire that they think it kitchen or cooking stuff 0\n",
      "meh wait for them all to be finished and theyll put them into a nice boxed set a year after that theyll be on sale probably somewhere around 2030 1\n",
      "i find many time the coupon dont work in the app so i use the puffin browser on full web site mode and they work 0\n",
      "perfect timing kid are getting tired of me reading the first three book at bedtime 1\n"
     ]
    }
   ],
   "source": [
    "# NOW FOR SLICKDEALS DATA\n",
    "\n",
    "sdeals_page = \"http://slickdeals.net\"\n",
    "url = urlopen(sdeals_page)\n",
    "url_read = url.read()\n",
    "url.close()\n",
    "\n",
    "page_soup = soup(url_read, \"html.parser\")\n",
    "\n",
    "grid_deals = page_soup.find(\"ul\", {\"class\":\"dealTiles gridDeals\",\n",
    "                                \"data-role\":\"deal-tiles\"})\n",
    "item_container = grid_deals.find_all('li')\n",
    "\n",
    "def fix_text(text):\n",
    "    text = re.sub(r'&lpar', '(', text)\n",
    "    text = re.sub(r'&rpar', ')', text)\n",
    "    text = re.sub(r'&plus', '+', text)\n",
    "    text = re.sub(r'&apos', '\\'', text)\n",
    "    text = re.sub(r'&colon', ':', text)\n",
    "    text = re.sub(r'&sol', '/', text)\n",
    "    text = re.sub(r'&dollar', '$', text)\n",
    "    text = re.sub(r'&comma', ',', text)\n",
    "    text = re.sub(r'&period', '.', text)\n",
    "    text = re.sub(r'&percnt', '%', text)\n",
    "    text = re.sub(r'&excl', '?', text)\n",
    "    text = re.sub(r'&num', '#', text)\n",
    "    return text\n",
    "\n",
    "\n",
    "df = pd.DataFrame(columns=['Item', 'Price', 'Old Price', 'Url', 'Positive Feedback Rating'])\n",
    "counter = 0\n",
    "\n",
    "test_counter = 0\n",
    "\n",
    "# store content regex\n",
    "content_re = re.compile(r'\\w+')\n",
    "space_re = re.compile(r'\\s{2,}')\n",
    "\n",
    "for item in item_container:\n",
    "    try:\n",
    "        # will add instances to df\n",
    "        to_add = []\n",
    "        \n",
    "        # getting the item's title\n",
    "        item_title = item.find(\"a\", {\"class\":\"itemTitle\"}).text.strip()\n",
    "        # cleaning the &___; - this may be added onto\n",
    "        item_title = fix_text(item_title)\n",
    "        \n",
    "        # item price\n",
    "        item_price = item.find('div', {'class':'itemPrice'}).text.strip()[:50].strip()\n",
    "        \n",
    "        to_add.append(item_title)\n",
    "        to_add.append(item_price)\n",
    "        \n",
    "        # old item price\n",
    "        try:\n",
    "            old_item_price = item.find('div', {'class':'listPrice'}).text\n",
    "        except:\n",
    "            old_item_price = \"\"\n",
    "            \n",
    "        to_add.append(old_item_price)\n",
    "        \n",
    "       \n",
    "\n",
    "        \n",
    "        # link to each product          \n",
    "        # dictionary of divs, then getting the tail end or url link\n",
    "        attributes_dictionary_list = item.findAll('div')\n",
    "        for div in attributes_dictionary_list:\n",
    "            attributes = div.attrs\n",
    "            if 'data-href' in attributes.keys():\n",
    "                url_tail = div['data-href']\n",
    "                break\n",
    "        product_page = (sdeals_page + url_tail).strip()\n",
    "        to_add.append(product_page)\n",
    "        \n",
    "        # don't do credit cards (takes too long bc too many comments)\n",
    "        card_re = re.compile(r'-card-')\n",
    "        if bool(card_re.search(url_tail.strip())) == False:\n",
    "\n",
    "            # now want to look at the comments for each product\n",
    "            # doing this for multiple pages\n",
    "\n",
    "            # grabbing last page of comments\n",
    "            page_url = urlopen(product_page)\n",
    "            page_url_read = page_url.read()\n",
    "            page_url.close()  \n",
    "            product_page_soup = soup(page_url_read, 'html.parser')\n",
    "            last_page = int(product_page_soup.find('div', {'id':'commentsBottomRow'}).find('span', {'id':'totalPageNum'}).text)\n",
    "\n",
    "\n",
    "            # removing 'src=frontpage' and 'src=sticky-24'\n",
    "            product_page = re.sub(r'src=frontpage', \"\", product_page)\n",
    "            product_page = re.sub(r'src=sticky-24', \"\", product_page)\n",
    "            print(product_page)\n",
    "\n",
    "            # list to add all comments\n",
    "            total_comment_list = []\n",
    "            \n",
    "            # using to iterate through comments pages\n",
    "            page_counter = 1\n",
    "\n",
    "            while page_counter <= last_page:\n",
    "                comments_page = product_page + \"page=\" + str(page_counter)\n",
    "                page_url = urlopen(comments_page)\n",
    "                page_url_read = page_url.read()\n",
    "                page_url.close()  \n",
    "                product_page_soup = soup(page_url_read, 'html.parser')\n",
    "\n",
    "                comments_soup = product_page_soup.find('div', {'id':'posts'})\n",
    "                content_soup = comments_soup.findAll('div', {'class':'postTextContent'})\n",
    "\n",
    "                product_content = [comment.findAll(text=True, recursive=False) for comment in content_soup]\n",
    "                product_comments = [comment for comment in product_content if comment]\n",
    "\n",
    "                # cleaning\n",
    "\n",
    "                for comment_list in product_comments:\n",
    "                    comment = []\n",
    "                    for instance in comment_list:\n",
    "                        comment.extend(instance)\n",
    "                    comment_joined = \"\".join(comment)\n",
    "                    comment = re.sub(r'\\n', ' ', comment_joined)\n",
    "                    comment = re.sub(r'\\r', ' ', comment)\n",
    "                    comment = re.sub(r' +', ' ', comment)\n",
    "\n",
    "                    total_comment_list.append(comment[1:-1])\n",
    "\n",
    "                page_counter += 1\n",
    "\n",
    "    #         print(total_comment_list)\n",
    "\n",
    "            # after getting slickdeals items into the dataframe, now apply the machine learning model to predict\n",
    "            # percent positive feedback for each product\n",
    "            positive = 0\n",
    "            negative = 0\n",
    "            for comment in total_comment_list:\n",
    "                # cleaning\n",
    "                comment = fix_text(comment)\n",
    "                comment = clean_text(comment)\n",
    "                print(comment, end=\" \")\n",
    "                # inputting each comment and predicting the outcome (0 or 1 sentiment)\n",
    "                reviews_array = np.array([comment])\n",
    "                reviews_vector = vectorizer.transform(reviews_array)\n",
    "                print(classifier.predict(reviews_vector)[0])\n",
    "                if classifier.predict(reviews_vector)[0] == 0: # if negative sentiment, increment negative\n",
    "                    negative += 1\n",
    "                elif classifier.predict(reviews_vector)[0] == 1:\n",
    "                    positive += 1\n",
    "\n",
    "            # percent of commments that have positive sentiment for the product\n",
    "            total_score = positive / (positive + negative)\n",
    "            to_add.append(total_score)\n",
    "\n",
    "            # adding to df\n",
    "            df.loc[counter] = to_add\n",
    "            # incrementing item counter\n",
    "            counter += 1\n",
    "\n",
    "            # temp test code\n",
    "            test_counter += 1\n",
    "            if test_counter == 10:\n",
    "                break\n",
    "                \n",
    "        \n",
    "    # end of front page deals\n",
    "    except AttributeError:\n",
    "        print(\"There is an error\")\n",
    "        break\n",
    "        \n",
    "\n",
    "        \n",
    "\n"
   ]
  },
  {
   "cell_type": "code",
   "execution_count": 63,
   "metadata": {},
   "outputs": [],
   "source": [
    "# results are posted\n",
    "df.to_html('Product Results.html')"
   ]
  }
 ],
 "metadata": {
  "kernelspec": {
   "display_name": "Python 3",
   "language": "python",
   "name": "python3"
  },
  "language_info": {
   "codemirror_mode": {
    "name": "ipython",
    "version": 3
   },
   "file_extension": ".py",
   "mimetype": "text/x-python",
   "name": "python",
   "nbconvert_exporter": "python",
   "pygments_lexer": "ipython3",
   "version": "3.7.1"
  }
 },
 "nbformat": 4,
 "nbformat_minor": 2
}
