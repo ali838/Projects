{
 "cells": [
  {
   "cell_type": "code",
   "execution_count": 1,
   "metadata": {},
   "outputs": [],
   "source": [
    "import pandas as pd\n",
    "import re\n",
    "import string"
   ]
  },
  {
   "cell_type": "code",
   "execution_count": 2,
   "metadata": {},
   "outputs": [
    {
     "data": {
      "text/plain": [
       "'Thomas'"
      ]
     },
     "execution_count": 2,
     "metadata": {},
     "output_type": "execute_result"
    }
   ],
   "source": [
    "# Reading in students' names from reference .csv file\n",
    "roster = pd.read_csv('roster.csv', sep=',')\n",
    "first = roster['First']\n",
    "last = roster['Last']\n",
    "first[0]"
   ]
  },
  {
   "cell_type": "code",
   "execution_count": 3,
   "metadata": {},
   "outputs": [
    {
     "name": "stdout",
     "output_type": "stream",
     "text": [
      "['Meghan Accorsi', 'Payam Aminayi', 'Jarret Andrews', 'Tanu Barsainyan', 'Scott Berry', 'Steve Blenker', 'Alvin Borum', 'Caroline Chen', 'Stacy Chura', 'Margo Didier', 'Jillian Farr', 'Nikki Fillingim', 'Shubham Garg', 'Scott Giveans', 'Ratna Govin', 'Rob Grabowski', 'Zach Hernandez', 'Jakob Kagel', 'Sourabh Karmakar', 'Will Kearney', 'Zach Keating', 'Steven Menhorn', 'Eric Nguyen', 'Smriti Pant', 'Tiffanie Patrick', 'Josh Pridgen', 'Tina Pu', 'Harry Quach', 'Harish Ramnath', 'Maggie Rheney', 'Diana Sarkar', 'Edward Skalla', 'Tyler Stierwalt', 'Jonathan Stuart', 'Ayushi Tewari', 'Brenna Tudor', 'Jeremy Walton', 'David Waters']\n"
     ]
    }
   ],
   "source": [
    "names = []\n",
    "index = 1\n",
    "while index < len(first):\n",
    "    name = \"\"\n",
    "    name = name.join(first[index] + \" \" + last[index])\n",
    "    names.append(name)\n",
    "    index += 1\n",
    "\n",
    "names = names[:-10] # removing the last 10 students, who aren't in the profile book\n",
    "    \n",
    "print(names)"
   ]
  },
  {
   "cell_type": "code",
   "execution_count": 4,
   "metadata": {},
   "outputs": [],
   "source": [
    "# Read in raw .txt file\n",
    "file = open('student profiles.txt', \"rb\")\n",
    "raw = file.read().decode(errors='replace')"
   ]
  },
  {
   "cell_type": "code",
   "execution_count": 5,
   "metadata": {},
   "outputs": [
    {
     "data": {
      "text/plain": [
       "'FULL-TIME MBA\\r\\nCLASS OF 2020\\r\\n2 | UNIVERSITY OF GEORGIA | TERRY COLLEGE OF BUSINESS TERRY.UGA.EDU/MBA/FULL-TIME | 3\\r\\nFULL-TIME MBA CLASS OF 2020\\r\\nMeghan Accorsi\\r\\nBusiness Analytics, Consulting, and Ma'"
      ]
     },
     "execution_count": 5,
     "metadata": {},
     "output_type": "execute_result"
    }
   ],
   "source": [
    "raw[:200]"
   ]
  },
  {
   "cell_type": "code",
   "execution_count": 6,
   "metadata": {},
   "outputs": [
    {
     "data": {
      "text/plain": [
       "'FULLTIME MBA CLASS OF 2020 2 UNIVERSITY OF GEORGIA TERRY COLLEGE OF BUSINESS TERRYUGAEDUMBAFULLTIME 3 FULLTIME MBA CLASS OF 2020 Meghan Accorsi Business Analytics Consulting and Marketing Education BS Sport Management University of Florida Before Terry Three years with Boston Red Sox as Ticket Services Associate Payam Aminayi Business Analytics Consulting and Healthcare Education PhD Chemical and Paper Engineering Western Michigan University Before Terry Two years with Enzymatic Deinking Technologies as Product Development Scientist Four years with Western Michigan University as Research Associate and Lab Supervisor Jarret Andrews Finance and Operations Education BA Business Administration American Military University Before Terry Eight years with US Coast Guard as Operations Specialist Ta'"
      ]
     },
     "execution_count": 6,
     "metadata": {},
     "output_type": "execute_result"
    }
   ],
   "source": [
    "# Data cleanup\n",
    "no_punc = \"\".join([char for char in raw if char not in string.punctuation])\n",
    "tokens = re.split('\\W+', no_punc)\n",
    "cleaned = \" \".join(tokens)\n",
    "cleaned[:800]"
   ]
  },
  {
   "cell_type": "code",
   "execution_count": 7,
   "metadata": {},
   "outputs": [
    {
     "name": "stdout",
     "output_type": "stream",
     "text": [
      "[129, 314, 624, 798, 1076, -1, 1478, 1751, 2129, 2411, 2690, 2887, 3167, 3477, 3810, 4042, 4334, 4474, 4699, 4938, 5212, 5529, 5754, 5967, 6268, 6485, 6783, -1, 7351, 7583, 7744, 8151, 8465, 8810, 9080, 9265, 9521, 9717]\n"
     ]
    }
   ],
   "source": [
    "# Creating an index mapping for each time a student appears in the cleaned text\n",
    "\n",
    "def find_indices(names_list):\n",
    "    student_indices = []\n",
    "    for i in range(len(names_list)):\n",
    "        index = cleaned.find(names_list[i])\n",
    "        student_indices.append(index)\n",
    "\n",
    "    return student_indices\n",
    "\n",
    "print(find_indices(names))"
   ]
  },
  {
   "cell_type": "code",
   "execution_count": 8,
   "metadata": {},
   "outputs": [
    {
     "data": {
      "text/plain": [
       "'Scott Berry Finance Education BA Finance University of South Carolina Aiken Before Terry Three years with SRP Federal Credit Union as Financial Specialist Steven Blenker Business Analytics Finance and Risk Management Education BA Psychology University at Buffalo Before Terry One year as Online and Live Gaming Entrepreneur Three years with Bryant Stratton College as Data Analyst and Statistics Tutor '"
      ]
     },
     "execution_count": 8,
     "metadata": {},
     "output_type": "execute_result"
    }
   ],
   "source": [
    "cleaned[1076:1478] # 'Steven Blenker' should be written as 'Steve Blenker' to match the dataset"
   ]
  },
  {
   "cell_type": "code",
   "execution_count": 9,
   "metadata": {},
   "outputs": [
    {
     "data": {
      "text/plain": [
       "'Tina Pu Business Analytics Healthcare Marketing and Operations Education BA English Literature International Journalism Beijing Foreign Studies University Before Terry Eight years with Chongqing Medical University Health System as Director of Marketing Publicity Committee Hung Quach Business Analytics Consulting and Finance Education BA Economics International Business Foreign Trade University Before Terry Two years with Topica Edtech Group as Project Development Manager Three years with EY as Senior Associate Audit Assurance Services FULLTIME MBA CLASS OF 2020 '"
      ]
     },
     "execution_count": 9,
     "metadata": {},
     "output_type": "execute_result"
    }
   ],
   "source": [
    "cleaned[6783:7351] # 'Hung Quach' probably goes by 'Harry Quach,' as represented by the original dataset"
   ]
  },
  {
   "cell_type": "code",
   "execution_count": 10,
   "metadata": {},
   "outputs": [
    {
     "name": "stdout",
     "output_type": "stream",
     "text": [
      "['Meghan Accorsi', 'Payam Aminayi', 'Jarret Andrews', 'Tanu Barsainyan', 'Scott Berry', 'Steven Blenker', 'Alvin Borum', 'Caroline Chen', 'Stacy Chura', 'Margo Didier', 'Jillian Farr', 'Nikki Fillingim', 'Shubham Garg', 'Scott Giveans', 'Ratna Govin', 'Rob Grabowski', 'Zach Hernandez', 'Jakob Kagel', 'Sourabh Karmakar', 'Will Kearney', 'Zach Keating', 'Steven Menhorn', 'Eric Nguyen', 'Smriti Pant', 'Tiffanie Patrick', 'Josh Pridgen', 'Tina Pu', 'Hung Quach', 'Harish Ramnath', 'Maggie Rheney', 'Diana Sarkar', 'Edward Skalla', 'Tyler Stierwalt', 'Jonathan Stuart', 'Ayushi Tewari', 'Brenna Tudor', 'Jeremy Walton', 'David Waters']\n"
     ]
    }
   ],
   "source": [
    "# fixing the two names that didn't appear in the indices list the first time\n",
    "for i in range(len(names)):\n",
    "    if names[i] == \"Steve Blenker\":\n",
    "        names[i] = \"Steven Blenker\"\n",
    "    if names[i] == \"Harry Quach\":\n",
    "        names[i] = \"Hung Quach\"\n",
    "\n",
    "print(names)"
   ]
  },
  {
   "cell_type": "code",
   "execution_count": 11,
   "metadata": {},
   "outputs": [
    {
     "name": "stdout",
     "output_type": "stream",
     "text": [
      "[129, 314, 624, 798, 1076, 1231, 1478, 1751, 2129, 2411, 2690, 2887, 3167, 3477, 3810, 4042, 4334, 4474, 4699, 4938, 5212, 5529, 5754, 5967, 6268, 6485, 6783, 7056, 7351, 7583, 7744, 8151, 8465, 8810, 9080, 9265, 9521, 9717]\n"
     ]
    }
   ],
   "source": [
    "indices = find_indices(names)\n",
    "print(indices) # ready to start indexing the cleaned text"
   ]
  },
  {
   "cell_type": "code",
   "execution_count": 12,
   "metadata": {},
   "outputs": [
    {
     "data": {
      "text/plain": [
       "'David Waters Business Analytics Finance and FinTech Education BA Finance University of Georgia Before Terry Two years with Education Realty Trust as Leasing Manager Two years with ChickfilA as Manager 12 UNIVERSITY OF GEORGIA TERRY COLLEGE OF BUSINESS Terry College of Business Benjamin C Ayers Dean Earl Davis Chair in Taxation Santanu Chatterjee Director FullTime MBA Programs and MS in Business Analytics Programs and Professor of Economics Contact Us FullTime MBA MSBA Career Management Center 318 Correll Hall 600 S Lumpkin St Athens GA 306026264 7065423542 recruitmbaugaedu FALL18'"
      ]
     },
     "execution_count": 12,
     "metadata": {},
     "output_type": "execute_result"
    }
   ],
   "source": [
    "# slicing each student and their achievements in a list\n",
    "student_profile = []\n",
    "i = 0\n",
    "while i < len(indices)-1: # exclude the last index to avoid and OutofBounds error\n",
    "    student_info = cleaned[indices[i]:indices[i+1]]\n",
    "    student_profile.append(student_info)\n",
    "    i += 1\n",
    "    if i == len(indices)-1:\n",
    "        student_profile.append(cleaned[indices[i]:]) # to get the last student into the student_profile list\n",
    "\n",
    "student_profile[-1]"
   ]
  },
  {
   "cell_type": "code",
   "execution_count": 13,
   "metadata": {},
   "outputs": [],
   "source": [
    "# trim the last student's entry\n",
    "twelve_index = student_profile[-1].find(\"12\") # as shown above, Waters' entry ends at \"ChickfilA as Manager,\" so I'm\n",
    "                                              # indexing the '12' right after that phrase\n",
    "student_profile[-1] = student_profile[-1][:twelve_index-1]"
   ]
  },
  {
   "cell_type": "code",
   "execution_count": 14,
   "metadata": {},
   "outputs": [
    {
     "name": "stdout",
     "output_type": "stream",
     "text": [
      "David Waters Business Analytics Finance and FinTech Education BA Finance University of Georgia Before Terry Two years with Education Realty Trust as Leasing Manager Two years with ChickfilA as Manager\n"
     ]
    }
   ],
   "source": [
    "print(student_profile[-1])"
   ]
  },
  {
   "cell_type": "code",
   "execution_count": 15,
   "metadata": {},
   "outputs": [
    {
     "data": {
      "text/plain": [
       "'Sourabh Karmakar Business Analytics Marketing and Operations Education BTech Chemical Engineering National Institute Of Technolody Durgapur Before Terry Three years with PwC as Consultant Three years with IBM as Associate Systems Engineer '"
      ]
     },
     "execution_count": 15,
     "metadata": {},
     "output_type": "execute_result"
    }
   ],
   "source": [
    "# testing\n",
    "student_profile[18]"
   ]
  },
  {
   "cell_type": "code",
   "execution_count": 16,
   "metadata": {},
   "outputs": [],
   "source": [
    "students_df = pd.DataFrame(columns=['Names',\n",
    "                           '# of Years', 'Company', 'Role',\n",
    "                           '# of Years', 'Company', 'Role',\n",
    "                           '# of Years', 'Company', 'Role',\n",
    "                           '# of Years', 'Company', 'Role']\n",
    "                 ) # maximum of 4 different work experiences ('Diana Sarkar')"
   ]
  },
  {
   "cell_type": "code",
   "execution_count": 17,
   "metadata": {},
   "outputs": [
    {
     "data": {
      "text/html": [
       "<div>\n",
       "<style scoped>\n",
       "    .dataframe tbody tr th:only-of-type {\n",
       "        vertical-align: middle;\n",
       "    }\n",
       "\n",
       "    .dataframe tbody tr th {\n",
       "        vertical-align: top;\n",
       "    }\n",
       "\n",
       "    .dataframe thead th {\n",
       "        text-align: right;\n",
       "    }\n",
       "</style>\n",
       "<table border=\"1\" class=\"dataframe\">\n",
       "  <thead>\n",
       "    <tr style=\"text-align: right;\">\n",
       "      <th></th>\n",
       "      <th>Names</th>\n",
       "      <th># of Years</th>\n",
       "      <th>Company</th>\n",
       "      <th>Role</th>\n",
       "      <th># of Years</th>\n",
       "      <th>Company</th>\n",
       "      <th>Role</th>\n",
       "      <th># of Years</th>\n",
       "      <th>Company</th>\n",
       "      <th>Role</th>\n",
       "      <th># of Years</th>\n",
       "      <th>Company</th>\n",
       "      <th>Role</th>\n",
       "    </tr>\n",
       "  </thead>\n",
       "  <tbody>\n",
       "  </tbody>\n",
       "</table>\n",
       "</div>"
      ],
      "text/plain": [
       "Empty DataFrame\n",
       "Columns: [Names, # of Years, Company, Role, # of Years, Company, Role, # of Years, Company, Role, # of Years, Company, Role]\n",
       "Index: []"
      ]
     },
     "execution_count": 17,
     "metadata": {},
     "output_type": "execute_result"
    }
   ],
   "source": [
    "students_df"
   ]
  },
  {
   "cell_type": "code",
   "execution_count": 18,
   "metadata": {},
   "outputs": [],
   "source": [
    "# Reference dictionary for turning written numbers into integers\n",
    "numbers = {\n",
    "    \"One\": 1,\n",
    "    \"Two\": 2,\n",
    "    \"Three\": 3,\n",
    "    \"Four\": 4,\n",
    "    \"Five\": 5,\n",
    "    \"Six\": 6,\n",
    "    \"Seven\": 7,\n",
    "    \"Eight\": 8,\n",
    "    \"Nine\": 9,\n",
    "    \"Ten\": 10,\n",
    "    \"Eleven\": 11\n",
    "}\n",
    "\n",
    "years = {\n",
    "    \"One year\": 1,\n",
    "    \"Two years\": 2,\n",
    "    \"Three years\": 3,\n",
    "    \"Four years\": 4,\n",
    "    \"Five years\": 5,\n",
    "    \"Six years\": 6,\n",
    "    \"Seven years\": 7,\n",
    "    \"Eight years\": 8,\n",
    "    \"Nine years\": 9,\n",
    "    \"Ten years\": 10,\n",
    "    \"Eleven years\": 11\n",
    "}\n",
    "\n",
    "for line_number in range(len(student_profile)):\n",
    "    \n",
    "    # separating by number words\n",
    "    tokenized = student_profile[line_number].split(' ')\n",
    "    indices_list = []\n",
    "    for i in range(len(tokenized)):\n",
    "        if tokenized[i] in numbers.keys():\n",
    "            indices_list.append(i)\n",
    "\n",
    "    # putting back together\n",
    "    new_list = []\n",
    "    for i in range(len(indices_list)):\n",
    "        # for students with one work experience listed\n",
    "        if len(indices_list) == 1:\n",
    "            new_list.append(\" \".join(tokenized[:indices_list[i]]))\n",
    "            new_list.append(\" \".join(tokenized[indices_list[i]:]))\n",
    "        elif i == 0: # First element in the index list (segment from beginning of tokenized student info)\n",
    "            new_list.append(\" \".join(tokenized[:indices_list[i]]))\n",
    "            new_list.append(\" \".join(tokenized[indices_list[i]:indices_list[i+1]]))\n",
    "        elif i == len(indices_list)-1: # last index\n",
    "            new_list.append(\" \".join(tokenized[indices_list[i]:]))\n",
    "        else:\n",
    "            new_list.append(\" \".join(tokenized[indices_list[i]:indices_list[i+1]]))\n",
    "\n",
    "    # clean up trailing words\n",
    "    \n",
    "    for i in range(len(new_list)):\n",
    "        # the word \"Experience\"\n",
    "        # assumption here: if it just says \"Experience with\", it might mean the experience was < 1 year\n",
    "        # (too insignificant to include in the total year calculation)\n",
    "        if (\" Experience\") in new_list[i]:\n",
    "            exp_loc = new_list[i].find(\" Experience\")\n",
    "            new_list[i] = new_list[i][:exp_loc]\n",
    "            \n",
    "        # footer (\"FULLTIME\")\n",
    "        if (\" FULLTIME\" in new_list[i]):\n",
    "            fulltime_loc = new_list[i].find(\" FULLTIME\")\n",
    "            new_list[i] = new_list[i][:fulltime_loc]\n",
    "            \n",
    "        # footer (\"(PAGENUMBER) UNIVERSITY\")\n",
    "        if (\" UNIVERSITY\" in new_list[i]):\n",
    "            university_loc = new_list[i].find(\" UNIVERSITY\") \n",
    "            new_list[i] = new_list[i][:university_loc-2]\n",
    "            # limit here is that there are no more than double digits in the pages\n",
    "            # Ex. ' 8 UNIVERSITY' will remove '8' and also the space before '8'.\n",
    "            # Ex. ' 10 UNIVERSITY' will remove just '10' and leave the space before 10\n",
    "        \n",
    "        # I only want the first 2 words in element 1 (first and last name)\n",
    "        if i == 0:\n",
    "            split = new_list[i].split(\" \")\n",
    "            first_two = split[:2]\n",
    "            new_list[i] = \" \".join(first_two)\n",
    "\n",
    "    # splitting by re\n",
    "    list_final = []\n",
    "    for i in range(len(new_list)):\n",
    "        split = re.split(' with | as ', new_list[i])\n",
    "        for j in split:\n",
    "            list_final.append(j)\n",
    "\n",
    "    # replacing written years with number\n",
    "    for i in range(len(list_final)):\n",
    "        if list_final[i] in years.keys():\n",
    "            list_final[i] = years[list_final[i]]\n",
    "\n",
    "    # filling in null values for mismatched levels of work experience\n",
    "    if len(list_final) != 13: #if it's not four work experiences\n",
    "        if len(list_final) == 4: # one work experience\n",
    "            add_null = [''] * 9\n",
    "            list_final.extend(add_null)\n",
    "        elif len(list_final) == 7: # two work experiences\n",
    "            add_null = [''] * 6\n",
    "            list_final.extend(add_null)\n",
    "        elif len(list_final) == 10: # three work experiences\n",
    "            add_null = [''] * 3\n",
    "            list_final.extend(add_null)\n",
    "        elif len(list_final) == 6: # ('Steven Blenker' and 'Jakob Kagel' content needs to be moved over one column\n",
    "                                   # since their formatting was a little bit off (Blenker with job and no company,\n",
    "                                   # Kegel with typo not including the word 'as')\n",
    "            add_null = [''] * 7\n",
    "            list_final.extend(add_null)\n",
    "    \n",
    "    students_df.loc[line_number] = list_final"
   ]
  },
  {
   "cell_type": "code",
   "execution_count": 19,
   "metadata": {},
   "outputs": [
    {
     "data": {
      "text/html": [
       "<div>\n",
       "<style scoped>\n",
       "    .dataframe tbody tr th:only-of-type {\n",
       "        vertical-align: middle;\n",
       "    }\n",
       "\n",
       "    .dataframe tbody tr th {\n",
       "        vertical-align: top;\n",
       "    }\n",
       "\n",
       "    .dataframe thead th {\n",
       "        text-align: right;\n",
       "    }\n",
       "</style>\n",
       "<table border=\"1\" class=\"dataframe\">\n",
       "  <thead>\n",
       "    <tr style=\"text-align: right;\">\n",
       "      <th></th>\n",
       "      <th>Names</th>\n",
       "      <th># of Years</th>\n",
       "      <th>Company</th>\n",
       "      <th>Role</th>\n",
       "      <th># of Years</th>\n",
       "      <th>Company</th>\n",
       "      <th>Role</th>\n",
       "      <th># of Years</th>\n",
       "      <th>Company</th>\n",
       "      <th>Role</th>\n",
       "      <th># of Years</th>\n",
       "      <th>Company</th>\n",
       "      <th>Role</th>\n",
       "    </tr>\n",
       "  </thead>\n",
       "  <tbody>\n",
       "    <tr>\n",
       "      <th>0</th>\n",
       "      <td>Meghan Accorsi</td>\n",
       "      <td>3</td>\n",
       "      <td>Boston Red Sox</td>\n",
       "      <td>Ticket Services Associate</td>\n",
       "      <td></td>\n",
       "      <td></td>\n",
       "      <td></td>\n",
       "      <td></td>\n",
       "      <td></td>\n",
       "      <td></td>\n",
       "      <td></td>\n",
       "      <td></td>\n",
       "      <td></td>\n",
       "    </tr>\n",
       "    <tr>\n",
       "      <th>1</th>\n",
       "      <td>Payam Aminayi</td>\n",
       "      <td>2</td>\n",
       "      <td>Enzymatic Deinking Technologies</td>\n",
       "      <td>Product Development Scientist</td>\n",
       "      <td>4</td>\n",
       "      <td>Western Michigan University</td>\n",
       "      <td>Research Associate and Lab Supervisor</td>\n",
       "      <td></td>\n",
       "      <td></td>\n",
       "      <td></td>\n",
       "      <td></td>\n",
       "      <td></td>\n",
       "      <td></td>\n",
       "    </tr>\n",
       "    <tr>\n",
       "      <th>2</th>\n",
       "      <td>Jarret Andrews</td>\n",
       "      <td>8</td>\n",
       "      <td>US Coast Guard</td>\n",
       "      <td>Operations Specialist</td>\n",
       "      <td></td>\n",
       "      <td></td>\n",
       "      <td></td>\n",
       "      <td></td>\n",
       "      <td></td>\n",
       "      <td></td>\n",
       "      <td></td>\n",
       "      <td></td>\n",
       "      <td></td>\n",
       "    </tr>\n",
       "    <tr>\n",
       "      <th>3</th>\n",
       "      <td>Tanu Barsainyan</td>\n",
       "      <td>2</td>\n",
       "      <td>Dassault Systemes</td>\n",
       "      <td>Development Engineer</td>\n",
       "      <td>2</td>\n",
       "      <td>Infosys</td>\n",
       "      <td>Senior Systems Engineer</td>\n",
       "      <td></td>\n",
       "      <td></td>\n",
       "      <td></td>\n",
       "      <td></td>\n",
       "      <td></td>\n",
       "      <td></td>\n",
       "    </tr>\n",
       "    <tr>\n",
       "      <th>4</th>\n",
       "      <td>Scott Berry</td>\n",
       "      <td>3</td>\n",
       "      <td>SRP Federal Credit Union</td>\n",
       "      <td>Financial Specialist</td>\n",
       "      <td></td>\n",
       "      <td></td>\n",
       "      <td></td>\n",
       "      <td></td>\n",
       "      <td></td>\n",
       "      <td></td>\n",
       "      <td></td>\n",
       "      <td></td>\n",
       "      <td></td>\n",
       "    </tr>\n",
       "    <tr>\n",
       "      <th>5</th>\n",
       "      <td>Steven Blenker</td>\n",
       "      <td>1</td>\n",
       "      <td>Online and Live Gaming Entrepreneur</td>\n",
       "      <td>3</td>\n",
       "      <td>Bryant Stratton College</td>\n",
       "      <td>Data Analyst and Statistics Tutor</td>\n",
       "      <td></td>\n",
       "      <td></td>\n",
       "      <td></td>\n",
       "      <td></td>\n",
       "      <td></td>\n",
       "      <td></td>\n",
       "      <td></td>\n",
       "    </tr>\n",
       "    <tr>\n",
       "      <th>6</th>\n",
       "      <td>Alvin Borum</td>\n",
       "      <td>3</td>\n",
       "      <td>DeKalb County Superior Court</td>\n",
       "      <td>Mental Health Court Coordinator and Laboratory...</td>\n",
       "      <td></td>\n",
       "      <td></td>\n",
       "      <td></td>\n",
       "      <td></td>\n",
       "      <td></td>\n",
       "      <td></td>\n",
       "      <td></td>\n",
       "      <td></td>\n",
       "      <td></td>\n",
       "    </tr>\n",
       "    <tr>\n",
       "      <th>7</th>\n",
       "      <td>Caroline Chen</td>\n",
       "      <td>1</td>\n",
       "      <td>Skyline RF</td>\n",
       "      <td>Sales Assistant Manager</td>\n",
       "      <td>3</td>\n",
       "      <td>San Jose Technology</td>\n",
       "      <td>International Sales Representative</td>\n",
       "      <td></td>\n",
       "      <td></td>\n",
       "      <td></td>\n",
       "      <td></td>\n",
       "      <td></td>\n",
       "      <td></td>\n",
       "    </tr>\n",
       "    <tr>\n",
       "      <th>8</th>\n",
       "      <td>Stacy Chura</td>\n",
       "      <td>1</td>\n",
       "      <td>Davenport Laroche</td>\n",
       "      <td>PR Digital Marketing Manager</td>\n",
       "      <td>2</td>\n",
       "      <td>Danone Company</td>\n",
       "      <td>Special Project Colead</td>\n",
       "      <td>1</td>\n",
       "      <td>BIGIN Project</td>\n",
       "      <td>Founder and Project Lead</td>\n",
       "      <td></td>\n",
       "      <td></td>\n",
       "      <td></td>\n",
       "    </tr>\n",
       "    <tr>\n",
       "      <th>9</th>\n",
       "      <td>Margo Didier</td>\n",
       "      <td>6</td>\n",
       "      <td>MUFG Investor Services</td>\n",
       "      <td>Senior Client Services Representative and Budd...</td>\n",
       "      <td>1</td>\n",
       "      <td>Northwestern Mutual</td>\n",
       "      <td>Campus Recruiter</td>\n",
       "      <td></td>\n",
       "      <td></td>\n",
       "      <td></td>\n",
       "      <td></td>\n",
       "      <td></td>\n",
       "      <td></td>\n",
       "    </tr>\n",
       "  </tbody>\n",
       "</table>\n",
       "</div>"
      ],
      "text/plain": [
       "             Names # of Years                              Company  \\\n",
       "0   Meghan Accorsi          3                       Boston Red Sox   \n",
       "1    Payam Aminayi          2      Enzymatic Deinking Technologies   \n",
       "2   Jarret Andrews          8                       US Coast Guard   \n",
       "3  Tanu Barsainyan          2                    Dassault Systemes   \n",
       "4      Scott Berry          3             SRP Federal Credit Union   \n",
       "5   Steven Blenker          1  Online and Live Gaming Entrepreneur   \n",
       "6      Alvin Borum          3         DeKalb County Superior Court   \n",
       "7    Caroline Chen          1                           Skyline RF   \n",
       "8      Stacy Chura          1                    Davenport Laroche   \n",
       "9     Margo Didier          6               MUFG Investor Services   \n",
       "\n",
       "                                                Role               # of Years  \\\n",
       "0                         Ticket Services Associate                             \n",
       "1                      Product Development Scientist                        4   \n",
       "2                             Operations Specialist                             \n",
       "3                               Development Engineer                        2   \n",
       "4                              Financial Specialist                             \n",
       "5                                                  3  Bryant Stratton College   \n",
       "6  Mental Health Court Coordinator and Laboratory...                            \n",
       "7                            Sales Assistant Manager                        3   \n",
       "8                       PR Digital Marketing Manager                        2   \n",
       "9  Senior Client Services Representative and Budd...                        1   \n",
       "\n",
       "                              Company                                    Role  \\\n",
       "0                                                                               \n",
       "1         Western Michigan University  Research Associate and Lab Supervisor    \n",
       "2                                                                               \n",
       "3                             Infosys                 Senior Systems Engineer   \n",
       "4                                                                               \n",
       "5  Data Analyst and Statistics Tutor                                            \n",
       "6                                                                               \n",
       "7                 San Jose Technology      International Sales Representative   \n",
       "8                      Danone Company                  Special Project Colead   \n",
       "9                 Northwestern Mutual                       Campus Recruiter    \n",
       "\n",
       "  # of Years        Company                       Role # of Years Company Role  \n",
       "0                                                                               \n",
       "1                                                                               \n",
       "2                                                                               \n",
       "3                                                                               \n",
       "4                                                                               \n",
       "5                                                                               \n",
       "6                                                                               \n",
       "7                                                                               \n",
       "8          1  BIGIN Project  Founder and Project Lead                           \n",
       "9                                                                               "
      ]
     },
     "execution_count": 19,
     "metadata": {},
     "output_type": "execute_result"
    }
   ],
   "source": [
    "students_df.head(10)"
   ]
  },
  {
   "cell_type": "code",
   "execution_count": 281,
   "metadata": {},
   "outputs": [],
   "source": [
    "# Export df\n",
    "students_df.to_csv(r'/Users/andrewli/Desktop/MBA 2020 Student Profile.csv')"
   ]
  },
  {
   "cell_type": "code",
   "execution_count": null,
   "metadata": {},
   "outputs": [],
   "source": []
  }
 ],
 "metadata": {
  "kernelspec": {
   "display_name": "Python 3",
   "language": "python",
   "name": "python3"
  },
  "language_info": {
   "codemirror_mode": {
    "name": "ipython",
    "version": 3
   },
   "file_extension": ".py",
   "mimetype": "text/x-python",
   "name": "python",
   "nbconvert_exporter": "python",
   "pygments_lexer": "ipython3",
   "version": "3.6.4"
  }
 },
 "nbformat": 4,
 "nbformat_minor": 2
}
