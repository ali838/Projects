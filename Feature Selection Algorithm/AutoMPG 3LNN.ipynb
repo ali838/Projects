{
 "cells": [
  {
   "cell_type": "code",
   "execution_count": 1,
   "metadata": {},
   "outputs": [
    {
     "name": "stderr",
     "output_type": "stream",
     "text": [
      "Using TensorFlow backend.\n"
     ]
    }
   ],
   "source": [
    "import pandas as pd\n",
    "import numpy as np\n",
    "import matplotlib.pyplot as plt\n",
    "from keras.models import Sequential\n",
    "from keras.layers import Dense\n",
    "from keras.optimizers import SGD\n",
    "from sklearn.model_selection import KFold\n",
    "from sklearn.preprocessing import MinMaxScaler\n",
    "from sklearn.metrics import r2_score"
   ]
  },
  {
   "cell_type": "code",
   "execution_count": 2,
   "metadata": {},
   "outputs": [
    {
     "data": {
      "text/html": [
       "<div>\n",
       "<style scoped>\n",
       "    .dataframe tbody tr th:only-of-type {\n",
       "        vertical-align: middle;\n",
       "    }\n",
       "\n",
       "    .dataframe tbody tr th {\n",
       "        vertical-align: top;\n",
       "    }\n",
       "\n",
       "    .dataframe thead th {\n",
       "        text-align: right;\n",
       "    }\n",
       "</style>\n",
       "<table border=\"1\" class=\"dataframe\">\n",
       "  <thead>\n",
       "    <tr style=\"text-align: right;\">\n",
       "      <th></th>\n",
       "      <th>mpg</th>\n",
       "      <th>cylinders</th>\n",
       "      <th>displacement</th>\n",
       "      <th>horsepower</th>\n",
       "      <th>weight</th>\n",
       "      <th>acceleration</th>\n",
       "      <th>model year</th>\n",
       "      <th>origin</th>\n",
       "      <th>car name</th>\n",
       "    </tr>\n",
       "  </thead>\n",
       "  <tbody>\n",
       "    <tr>\n",
       "      <th>0</th>\n",
       "      <td>18.0</td>\n",
       "      <td>8</td>\n",
       "      <td>307.0</td>\n",
       "      <td>130</td>\n",
       "      <td>3504</td>\n",
       "      <td>12.0</td>\n",
       "      <td>70</td>\n",
       "      <td>1</td>\n",
       "      <td>\"chevrolet chevelle malibu\"</td>\n",
       "    </tr>\n",
       "    <tr>\n",
       "      <th>1</th>\n",
       "      <td>15.0</td>\n",
       "      <td>8</td>\n",
       "      <td>350.0</td>\n",
       "      <td>165</td>\n",
       "      <td>3693</td>\n",
       "      <td>11.5</td>\n",
       "      <td>70</td>\n",
       "      <td>1</td>\n",
       "      <td>\"buick skylark 320\"</td>\n",
       "    </tr>\n",
       "    <tr>\n",
       "      <th>2</th>\n",
       "      <td>18.0</td>\n",
       "      <td>8</td>\n",
       "      <td>318.0</td>\n",
       "      <td>150</td>\n",
       "      <td>3436</td>\n",
       "      <td>11.0</td>\n",
       "      <td>70</td>\n",
       "      <td>1</td>\n",
       "      <td>\"plymouth satellite\"</td>\n",
       "    </tr>\n",
       "    <tr>\n",
       "      <th>3</th>\n",
       "      <td>16.0</td>\n",
       "      <td>8</td>\n",
       "      <td>304.0</td>\n",
       "      <td>150</td>\n",
       "      <td>3433</td>\n",
       "      <td>12.0</td>\n",
       "      <td>70</td>\n",
       "      <td>1</td>\n",
       "      <td>\"amc rebel sst\"</td>\n",
       "    </tr>\n",
       "    <tr>\n",
       "      <th>4</th>\n",
       "      <td>17.0</td>\n",
       "      <td>8</td>\n",
       "      <td>302.0</td>\n",
       "      <td>140</td>\n",
       "      <td>3449</td>\n",
       "      <td>10.5</td>\n",
       "      <td>70</td>\n",
       "      <td>1</td>\n",
       "      <td>\"ford torino\"</td>\n",
       "    </tr>\n",
       "  </tbody>\n",
       "</table>\n",
       "</div>"
      ],
      "text/plain": [
       "    mpg  cylinders  displacement horsepower  weight  acceleration  model year  \\\n",
       "0  18.0          8         307.0        130    3504          12.0          70   \n",
       "1  15.0          8         350.0        165    3693          11.5          70   \n",
       "2  18.0          8         318.0        150    3436          11.0          70   \n",
       "3  16.0          8         304.0        150    3433          12.0          70   \n",
       "4  17.0          8         302.0        140    3449          10.5          70   \n",
       "\n",
       "   origin                     car name  \n",
       "0       1  \"chevrolet chevelle malibu\"  \n",
       "1       1          \"buick skylark 320\"  \n",
       "2       1         \"plymouth satellite\"  \n",
       "3       1              \"amc rebel sst\"  \n",
       "4       1                \"ford torino\"  "
      ]
     },
     "execution_count": 2,
     "metadata": {},
     "output_type": "execute_result"
    }
   ],
   "source": [
    "df = pd.read_csv(\"auto-mpg.csv\")\n",
    "df.head()"
   ]
  },
  {
   "cell_type": "code",
   "execution_count": 3,
   "metadata": {},
   "outputs": [
    {
     "data": {
      "text/plain": [
       "(398, 9)"
      ]
     },
     "execution_count": 3,
     "metadata": {},
     "output_type": "execute_result"
    }
   ],
   "source": [
    "df.shape"
   ]
  },
  {
   "cell_type": "code",
   "execution_count": 4,
   "metadata": {
    "scrolled": true
   },
   "outputs": [
    {
     "name": "stderr",
     "output_type": "stream",
     "text": [
      "/Users/andrewjli/opt/anaconda3/lib/python3.7/site-packages/pandas/core/ops/array_ops.py:253: FutureWarning: elementwise comparison failed; returning scalar instead, but in the future will perform elementwise comparison\n",
      "  res_values = method(rvalues)\n"
     ]
    },
    {
     "data": {
      "text/plain": [
       "(392, 8)"
      ]
     },
     "execution_count": 4,
     "metadata": {},
     "output_type": "execute_result"
    }
   ],
   "source": [
    "# load / clean / reshape dataset\n",
    "df = pd.read_csv(\"auto-mpg.csv\")\n",
    "temp = df['mpg']\n",
    "df = df.drop(columns=['mpg','car name']) # remove car name col\n",
    "df = pd.concat([df, temp], axis=1)\n",
    "\n",
    "# remove rows with ?\n",
    "cols = list(df.columns)\n",
    "for col in cols:\n",
    "    df = df[df[col] != '?']\n",
    "    \n",
    "# if column names have leading / trailing white space\n",
    "new_cols = []\n",
    "for col_name in list(df.columns):\n",
    "    new_cols.append(col_name.strip())\n",
    "df.columns = new_cols\n",
    "\n",
    "df.head()\n",
    "df.shape"
   ]
  },
  {
   "cell_type": "code",
   "execution_count": 5,
   "metadata": {},
   "outputs": [
    {
     "data": {
      "text/html": [
       "<div>\n",
       "<style scoped>\n",
       "    .dataframe tbody tr th:only-of-type {\n",
       "        vertical-align: middle;\n",
       "    }\n",
       "\n",
       "    .dataframe tbody tr th {\n",
       "        vertical-align: top;\n",
       "    }\n",
       "\n",
       "    .dataframe thead th {\n",
       "        text-align: right;\n",
       "    }\n",
       "</style>\n",
       "<table border=\"1\" class=\"dataframe\">\n",
       "  <thead>\n",
       "    <tr style=\"text-align: right;\">\n",
       "      <th></th>\n",
       "      <th>cylinders</th>\n",
       "      <th>displacement</th>\n",
       "      <th>horsepower</th>\n",
       "      <th>weight</th>\n",
       "      <th>acceleration</th>\n",
       "      <th>model year</th>\n",
       "      <th>origin</th>\n",
       "      <th>mpg</th>\n",
       "    </tr>\n",
       "  </thead>\n",
       "  <tbody>\n",
       "    <tr>\n",
       "      <th>0</th>\n",
       "      <td>8</td>\n",
       "      <td>307.0</td>\n",
       "      <td>130</td>\n",
       "      <td>3504</td>\n",
       "      <td>12.0</td>\n",
       "      <td>70</td>\n",
       "      <td>1</td>\n",
       "      <td>18.0</td>\n",
       "    </tr>\n",
       "    <tr>\n",
       "      <th>1</th>\n",
       "      <td>8</td>\n",
       "      <td>350.0</td>\n",
       "      <td>165</td>\n",
       "      <td>3693</td>\n",
       "      <td>11.5</td>\n",
       "      <td>70</td>\n",
       "      <td>1</td>\n",
       "      <td>15.0</td>\n",
       "    </tr>\n",
       "    <tr>\n",
       "      <th>2</th>\n",
       "      <td>8</td>\n",
       "      <td>318.0</td>\n",
       "      <td>150</td>\n",
       "      <td>3436</td>\n",
       "      <td>11.0</td>\n",
       "      <td>70</td>\n",
       "      <td>1</td>\n",
       "      <td>18.0</td>\n",
       "    </tr>\n",
       "    <tr>\n",
       "      <th>3</th>\n",
       "      <td>8</td>\n",
       "      <td>304.0</td>\n",
       "      <td>150</td>\n",
       "      <td>3433</td>\n",
       "      <td>12.0</td>\n",
       "      <td>70</td>\n",
       "      <td>1</td>\n",
       "      <td>16.0</td>\n",
       "    </tr>\n",
       "    <tr>\n",
       "      <th>4</th>\n",
       "      <td>8</td>\n",
       "      <td>302.0</td>\n",
       "      <td>140</td>\n",
       "      <td>3449</td>\n",
       "      <td>10.5</td>\n",
       "      <td>70</td>\n",
       "      <td>1</td>\n",
       "      <td>17.0</td>\n",
       "    </tr>\n",
       "  </tbody>\n",
       "</table>\n",
       "</div>"
      ],
      "text/plain": [
       "   cylinders  displacement horsepower  weight  acceleration  model year  \\\n",
       "0          8         307.0        130    3504          12.0          70   \n",
       "1          8         350.0        165    3693          11.5          70   \n",
       "2          8         318.0        150    3436          11.0          70   \n",
       "3          8         304.0        150    3433          12.0          70   \n",
       "4          8         302.0        140    3449          10.5          70   \n",
       "\n",
       "   origin   mpg  \n",
       "0       1  18.0  \n",
       "1       1  15.0  \n",
       "2       1  18.0  \n",
       "3       1  16.0  \n",
       "4       1  17.0  "
      ]
     },
     "execution_count": 5,
     "metadata": {},
     "output_type": "execute_result"
    }
   ],
   "source": [
    "df.head()"
   ]
  },
  {
   "cell_type": "code",
   "execution_count": 6,
   "metadata": {},
   "outputs": [],
   "source": [
    "# calculate adjusted r-squared\n",
    "def adjusted_r_squared(r_square, m, n):\n",
    "    right = ((m - 1) * (1 - r_square)) / (m - (n + 1))\n",
    "    return 1 - right"
   ]
  },
  {
   "cell_type": "code",
   "execution_count": 8,
   "metadata": {},
   "outputs": [],
   "source": [
    "def build_model_eval(X, y, activation1='relu', activation2='relu', activation3='linear'):\n",
    "    \"\"\"\n",
    "    This function is to build a 3L NN model using an X matrix and y array, evaluate them using R^2, R^2 bar,\n",
    "    and R^2 CV (5-fold), and these 3 quality of fit measures are returned.\n",
    "\n",
    "    Uses SGD to update weights.\n",
    "\n",
    "    Notes:\n",
    "    - The X and y inputs must by numpy arrays (use .values for DataFrame objects)\n",
    "    - If X is not a 2d matrix and is a 1d matrix instead (only 1 feature), then\n",
    "      use X = np.reshape(X, (-1, 1)) to reshape the data before passing it to scale\n",
    "    \"\"\"\n",
    "\n",
    "\n",
    "    # reshape\n",
    "    y = np.reshape(y, (-1, 1))\n",
    "\n",
    "    # scale features\n",
    "    scaler_x = MinMaxScaler()\n",
    "    scaler_y = MinMaxScaler()\n",
    "    scaler_x.fit(X)\n",
    "    scaler_y.fit(y)\n",
    "    xscale = scaler_x.transform(X)\n",
    "    yscale = scaler_y.transform(y)\n",
    "    \n",
    "    # create model\n",
    "    model = Sequential()\n",
    "    model.add(Dense(X.shape[1], input_dim=X.shape[1], activation=activation1))\n",
    "    model.add(Dense(10, activation=activation2))\n",
    "    model.add(Dense(1, activation=activation3))\n",
    "    \n",
    "    # make learning rate\n",
    "    opt = SGD(lr=0.01)\n",
    "\n",
    "    # compile model\n",
    "    model.compile(loss='mse', optimizer='adam', metrics=['mae', 'mse'])\n",
    "    \n",
    "    # fit the model on dataset (mini batch)\n",
    "    history = model.fit(xscale, yscale, epochs=150, batch_size=10, verbose=0)\n",
    "    \n",
    "    # predict\n",
    "    predictions = model.predict(xscale)\n",
    "    predictions = scaler_y.inverse_transform(predictions)\n",
    "    \n",
    "    # calculate r-squared\n",
    "    r_squared = r2_score(y, predictions)\n",
    "    \n",
    "    # calculate adjusted r-squared\n",
    "    adj_r_squared = adjusted_r_squared(r_squared, X.shape[0], X.shape[1])\n",
    "    \n",
    "    # calculate r-squared cv\n",
    "    # fix random seed for reproducibility\n",
    "    seed = 7\n",
    "    np.random.seed(seed)\n",
    "\n",
    "    # calculate r-squared cross validated\n",
    "    kfold = KFold(n_splits=5, shuffle=True, random_state=seed)\n",
    "    cv_scores = []\n",
    "    \n",
    "    for train, test in kfold.split(xscale, yscale):\n",
    "    # create model\n",
    "        model = Sequential()\n",
    "        model.add(Dense(X.shape[1], input_dim=X.shape[1], activation=activation1))\n",
    "        model.add(Dense(10, activation=activation2))\n",
    "        model.add(Dense(1, activation=activation3))\n",
    "\n",
    "        # compile model\n",
    "        model.compile(loss='mse', optimizer='adam', metrics=['mae', 'mse'])\n",
    "\n",
    "        # fit the model on dataset (mini batch)\n",
    "        model.fit(xscale[train], yscale[train], epochs=150, batch_size=10, verbose=0)\n",
    "\n",
    "        # make predictions\n",
    "        predictions = model.predict(xscale[test])\n",
    "        predictions = scaler_y.inverse_transform(predictions)\n",
    "\n",
    "        # calculate r-squared\n",
    "        r2 = r2_score(y[test], predictions)\n",
    "        cv_scores.append(r2)\n",
    "        \n",
    "    cv_r_squared = sum(cv_scores) / len(cv_scores)\n",
    "    return r_squared, adj_r_squared, cv_r_squared\n",
    "\n",
    "\n",
    "    \n",
    "    "
   ]
  },
  {
   "cell_type": "code",
   "execution_count": 9,
   "metadata": {},
   "outputs": [
    {
     "name": "stdout",
     "output_type": "stream",
     "text": [
      "cylinders\n"
     ]
    },
    {
     "data": {
      "image/png": "[encoded data removed]",
      "text/plain": [
       "<Figure size 432x288 with 1 Axes>"
      ]
     },
     "metadata": {
      "needs_background": "light"
     },
     "output_type": "display_data"
    },
    {
     "name": "stdout",
     "output_type": "stream",
     "text": [
      "cylinders R^2:  -3.318266609930731e-06 R^2 adjusted:  -0.0025674293390884895 R^2 CV:  0.22099621693227198\n",
      "displacement\n"
     ]
    },
    {
     "data": {
      "image/png": "[encoded data removed]",
      "text/plain": [
       "<Figure size 432x288 with 1 Axes>"
      ]
     },
     "metadata": {
      "needs_background": "light"
     },
     "output_type": "display_data"
    },
    {
     "name": "stdout",
     "output_type": "stream",
     "text": [
      "displacement R^2:  0.6493931666429498 R^2 adjusted:  0.648494174762547 R^2 CV:  0.24019854517826986\n",
      "horsepower\n"
     ]
    },
    {
     "data": {
      "image/png": "[encoded data removed]",
      "text/plain": [
       "<Figure size 432x288 with 1 Axes>"
      ]
     },
     "metadata": {
      "needs_background": "light"
     },
     "output_type": "display_data"
    },
    {
     "name": "stdout",
     "output_type": "stream",
     "text": [
      "horsepower R^2:  0.599785204713673 R^2 adjusted:  0.5987590129308876 R^2 CV:  0.23881281274547156\n",
      "weight\n"
     ]
    },
    {
     "data": {
      "image/png": "[encoded data removed]",
      "text/plain": [
       "<Figure size 432x288 with 1 Axes>"
      ]
     },
     "metadata": {
      "needs_background": "light"
     },
     "output_type": "display_data"
    },
    {
     "name": "stdout",
     "output_type": "stream",
     "text": [
      "weight R^2:  -6.955485873483269e-06 R^2 adjusted:  -0.002571075884555185 R^2 CV:  0.4020011368728012\n",
      "acceleration\n"
     ]
    },
    {
     "data": {
      "image/png": "[encoded data removed]",
      "text/plain": [
       "<Figure size 432x288 with 1 Axes>"
      ]
     },
     "metadata": {
      "needs_background": "light"
     },
     "output_type": "display_data"
    },
    {
     "name": "stdout",
     "output_type": "stream",
     "text": [
      "acceleration R^2:  -6.9541952931739814e-06 R^2 adjusted:  -0.002571074590665745 R^2 CV:  0.08799863469566147\n",
      "model year\n"
     ]
    },
    {
     "data": {
      "image/png": "[encoded data removed]",
      "text/plain": [
       "<Figure size 432x288 with 1 Axes>"
      ]
     },
     "metadata": {
      "needs_background": "light"
     },
     "output_type": "display_data"
    },
    {
     "name": "stdout",
     "output_type": "stream",
     "text": [
      "model year R^2:  0.37180570781855216 R^2 adjusted:  0.37019495322321505 R^2 CV:  0.25684404440980685\n",
      "origin\n"
     ]
    },
    {
     "data": {
      "image/png": "[encoded data removed]",
      "text/plain": [
       "<Figure size 432x288 with 1 Axes>"
      ]
     },
     "metadata": {
      "needs_background": "light"
     },
     "output_type": "display_data"
    },
    {
     "name": "stdout",
     "output_type": "stream",
     "text": [
      "origin R^2:  0.33137691917661805 R^2 adjusted:  0.32966250102066064 R^2 CV:  0.06150672133715231\n",
      "Best single feature:  weight\n"
     ]
    }
   ],
   "source": [
    "# first start with 1 feature and run the model 'n' number of times\n",
    "\n",
    "features = list(df.columns)[:-1] # take everything but the output variable\n",
    "\n",
    "feature_dict = dict() # will store R^2 and R^2 bar scores for each feature\n",
    "\n",
    "for feature in features:\n",
    "    \n",
    "    # add feature to dictionary\n",
    "    feature_dict[feature] = [] # empty list for each feature (will add R^2 and R^2 bar)\n",
    "\n",
    "    X_col_index = df.columns.get_loc(feature)\n",
    "    dataset = df.values\n",
    "    X = dataset[:,X_col_index]\n",
    "    y = dataset[:,(df.shape[1])-1]\n",
    "\n",
    "    # reshape\n",
    "    X = np.reshape(X, (-1, 1))\n",
    "    y = np.reshape(y, (-1, 1))\n",
    "\n",
    "    # scale features\n",
    "    scaler_x = MinMaxScaler()\n",
    "    scaler_y = MinMaxScaler()\n",
    "    scaler_x.fit(X)\n",
    "    scaler_y.fit(y)\n",
    "    xscale = scaler_x.transform(X)\n",
    "    yscale = scaler_y.transform(y)\n",
    "\n",
    "    # create model\n",
    "    model = Sequential()\n",
    "    model.add(Dense(X.shape[1], input_dim=X.shape[1], activation='relu'))\n",
    "    model.add(Dense(10, activation='relu'))\n",
    "    model.add(Dense(1, activation='linear'))\n",
    "\n",
    "    # make learning rate\n",
    "    opt = SGD(lr=0.01)\n",
    "\n",
    "    # compile model\n",
    "    model.compile(loss='mse', optimizer='adam', metrics=['mae', 'mse'])\n",
    "\n",
    "    # fit the model on dataset (mini batch)\n",
    "    history = model.fit(xscale, yscale, epochs=150, batch_size=10, verbose=0)\n",
    "    \n",
    "    ### TEMP\n",
    "    print(feature)\n",
    "\n",
    "    # plot loss function vs epochs\n",
    "    plt.plot(history.history['loss'], color='blue')\n",
    "    plt.title('Loss vs. Epochs with ' + str(feature) +  ' as feature', size='15')\n",
    "    plt.xlabel('Number of Epochs')\n",
    "    plt.ylabel('Loss')\n",
    "    plt.show()\n",
    "\n",
    "    # predict\n",
    "    predictions = model.predict(xscale)\n",
    "    predictions = scaler_y.inverse_transform(predictions)\n",
    "\n",
    "    # calculate r-squared\n",
    "    r_squared = r2_score(y, predictions)\n",
    "    feature_dict[feature].append(r_squared)\n",
    "\n",
    "    # calculate adjusted r-squared\n",
    "    adj_r_squared = adjusted_r_squared(r_squared, X.shape[0], X.shape[1])\n",
    "    feature_dict[feature].append(adj_r_squared)\n",
    "    \n",
    "    # calculate r-squared cv\n",
    "    seed = 7\n",
    "    np.random.seed(seed)\n",
    "\n",
    "    kfold = KFold(n_splits=5, shuffle=True, random_state=seed)\n",
    "    cv_scores = []\n",
    "    for train, test in kfold.split(xscale, yscale):\n",
    "        # create model\n",
    "        model = Sequential()\n",
    "        model.add(Dense(X.shape[1], input_dim=X.shape[1], activation='relu'))\n",
    "        model.add(Dense(10, activation='relu'))\n",
    "        model.add(Dense(1, activation='linear'))\n",
    "\n",
    "        # compile model\n",
    "        model.compile(loss='mse', optimizer='adam', metrics=['mae', 'mse'])\n",
    "\n",
    "        # fit the model on dataset (mini batch)\n",
    "        model.fit(xscale[train], yscale[train], epochs=150, batch_size=10, verbose=0)\n",
    "\n",
    "        # make predictions\n",
    "        predictions = model.predict(xscale[test])\n",
    "        predictions = scaler_y.inverse_transform(predictions)\n",
    "\n",
    "        # calculate r-squared\n",
    "        r2 = r2_score(y[test], predictions)\n",
    "        cv_scores.append(r2)\n",
    "        \n",
    "    cv_r_squared = sum(cv_scores) / len(cv_scores)\n",
    "    feature_dict[feature].append(cv_r_squared)\n",
    "    \n",
    "    # print out\n",
    "    print(feature, end=\" \")\n",
    "    print(\"R^2: \", feature_dict[feature][0], end=\" \")\n",
    "    print(\"R^2 adjusted: \", feature_dict[feature][1], end=\" \")\n",
    "    print(\"R^2 CV: \", feature_dict[feature][2])\n",
    "    \n",
    "# selecting best feature by R^2 bar\n",
    "best_single_feature_items = sorted(feature_dict.items(), key=lambda x: x[1][2], reverse=True)\n",
    "print(\"Best single feature: \", best_single_feature_items[0][0])\n",
    "    \n"
   ]
  },
  {
   "cell_type": "code",
   "execution_count": 10,
   "metadata": {},
   "outputs": [
    {
     "name": "stdout",
     "output_type": "stream",
     "text": [
      "\n",
      "forward step #: 1\n",
      "['weight', 'cylinders']\n",
      "r2: 0.734079089170965 r2_bar 0.7327118865445946 r2_cv 0.684526646810296\n",
      "['weight', 'displacement']\n",
      "r2: 0.6951404831777981 r2_bar 0.693573082063031 r2_cv 0.7171481431823383\n",
      "['weight', 'horsepower']\n",
      "r2: -6.955485873483269e-06 r2_bar -0.0051483794215334555 r2_cv 0.733005493101406\n",
      "['weight', 'acceleration']\n",
      "r2: 0.7144227896916797 r2_bar 0.7129545263996061 r2_cv 0.7149573699620317\n",
      "['weight', 'model year']\n",
      "r2: 0.8457721229126036 r2_bar 0.8449791775291209 r2_cv 0.8242717591605615\n",
      "['weight', 'origin']\n",
      "r2: 0.7114251514615053 r2_bar 0.7099414761476828 r2_cv 0.6965760945048746\n",
      "\n",
      "forward step #: 2\n",
      "['weight', 'model year', 'cylinders']\n",
      "r2: 0.851972905755451 r2_bar 0.8508283663669622 r2_cv 0.8244819501502881\n",
      "['weight', 'model year', 'displacement']\n",
      "r2: 0.8634099910887314 r2_bar 0.8623538827724071 r2_cv 0.8338804159527561\n",
      "['weight', 'model year', 'horsepower']\n",
      "r2: 0.8780397442084407 r2_bar 0.8770967525399492 r2_cv 0.8573925513931725\n",
      "['weight', 'model year', 'acceleration']\n",
      "r2: 0.8680846166225268 r2_bar 0.8670646523180618 r2_cv 0.8370983501953198\n",
      "['weight', 'model year', 'origin']\n",
      "r2: 0.8569718104897772 r2_bar 0.8558659224265539 r2_cv 0.8504757474718427\n",
      "\n",
      "forward step #: 3\n",
      "['weight', 'model year', 'horsepower', 'cylinders']\n",
      "r2: 0.8647897180261543 r2_bar 0.863392195731851 r2_cv 0.8515049625979494\n",
      "['weight', 'model year', 'horsepower', 'displacement']\n",
      "r2: 0.8765449023543316 r2_bar 0.8752688806732394 r2_cv 0.860000578085014\n",
      "['weight', 'model year', 'horsepower', 'acceleration']\n",
      "r2: 0.8755570493221407 r2_bar 0.8742708172737907 r2_cv 0.8641078846410155\n",
      "['weight', 'model year', 'horsepower', 'origin']\n",
      "r2: 0.8786244035280346 r2_bar 0.8773698753991254 r2_cv 0.8666770434684832\n",
      "\n",
      "forward step #: 4\n",
      "['weight', 'model year', 'horsepower', 'origin', 'cylinders']\n",
      "r2: 0.8752129138606819 r2_bar 0.8735965008277892 r2_cv 0.8674294240882011\n",
      "['weight', 'model year', 'horsepower', 'origin', 'displacement']\n",
      "r2: 0.8881911686935013 r2_bar 0.886742867769842 r2_cv 0.8659184951743558\n",
      "['weight', 'model year', 'horsepower', 'origin', 'acceleration']\n",
      "r2: 0.8802022593541823 r2_bar 0.8786504751489256 r2_cv 0.871640672246131\n",
      "\n",
      "forward step #: 5\n",
      "['weight', 'model year', 'horsepower', 'origin', 'acceleration', 'cylinders']\n",
      "r2: 0.8792315472668074 r2_bar 0.8773494415099264 r2_cv 0.868979817188222\n",
      "['weight', 'model year', 'horsepower', 'origin', 'acceleration', 'displacement']\n",
      "r2: 0.9017812691428825 r2_bar 0.9002505876230313 r2_cv 0.8644885738930285\n",
      "\n",
      "forward step #: 6\n",
      "['weight', 'model year', 'horsepower', 'origin', 'acceleration', 'cylinders', 'displacement']\n",
      "r2: 0.8928928439426459 r2_bar 0.8909403697436837 r2_cv 0.8583311426772198\n"
     ]
    }
   ],
   "source": [
    "# forward select (fs) process\n",
    "\n",
    "fs_cols = [best_single_feature_items[0][0]]\n",
    "\n",
    "# master lists for measures of fit (already include fits for first best selected feature)\n",
    "r2_master = [best_single_feature_items[0][1][0]]\n",
    "r2_adj_master = [best_single_feature_items[0][1][1]]\n",
    "r2_cv_master = [best_single_feature_items[0][1][2]]\n",
    "\n",
    "counter = len(features) - 1 # -1 because one of the attributes is already in the forward sel list\n",
    "step_counter = 1\n",
    "\n",
    "while counter != 0:\n",
    "    \n",
    "    # adding forward step features to lists, and their measures of fit\n",
    "    fs_feature_list = []\n",
    "    r2_list = []\n",
    "    r2_adj_list = []\n",
    "    r2_cv_list = []\n",
    "    \n",
    "    print(\"\\n\" + \"forward step #: \" + str(step_counter))\n",
    "        \n",
    "    for feature in features:\n",
    "        \n",
    "        if not feature in fs_cols:\n",
    "            # forward step\n",
    "            # make copy of original list then add new feature            \n",
    "            temp_list = fs_cols.copy()\n",
    "            temp_list.append(feature)\n",
    "            \n",
    "            # df with additional new feature\n",
    "            temp_df = pd.DataFrame()\n",
    "            for col in temp_list:\n",
    "                temp_df = pd.concat([temp_df, df[col]], axis=1)\n",
    "                \n",
    "                \n",
    "            # organize data with temp_df\n",
    "            dataset = temp_df.values\n",
    "            X = dataset[:,:(temp_df.shape[1])]\n",
    "            y = df.iloc[:,(df.shape[1])-1].values # y stays the same always\n",
    "            \n",
    "            r2, r2_bar, r2_cv = build_model_eval(X, y)\n",
    "            \n",
    "            print(temp_list)\n",
    "            print(\"r2:\", r2, \"r2_bar\", r2_bar, \"r2_cv\", r2_cv)\n",
    "            \n",
    "            fs_feature_list.append(feature)\n",
    "            r2_list.append(r2)\n",
    "            r2_adj_list.append(r2_bar)\n",
    "            r2_cv_list.append(r2_cv)\n",
    "                \n",
    "\n",
    "    # add next feature to master list (fs_cols) that has the highest r2_cv\n",
    "    \n",
    "    # index of highest r2_cv\n",
    "    r2_cv_highest = 0\n",
    "    r2_cv_index = 0\n",
    "    for i in range(len(r2_cv_list)):\n",
    "        if r2_cv_list[i] > r2_cv_highest:\n",
    "            r2_cv_highest = r2_cv_list[i]\n",
    "            r2_cv_index = i\n",
    "    \n",
    "    # feature with highest r2_cv\n",
    "    feature_highest = fs_feature_list[r2_cv_index]\n",
    "    \n",
    "    \n",
    "    # update master lists\n",
    "    fs_cols.append(feature_highest)\n",
    "    r2_master.append(r2_list[r2_cv_index])\n",
    "    r2_adj_master.append(r2_adj_list[r2_cv_index])\n",
    "    r2_cv_master.append(r2_cv_list[r2_cv_index])\n",
    "    \n",
    "    # counter increments\n",
    "    counter -= 1\n",
    "    step_counter += 1\n",
    "        \n",
    "        \n"
   ]
  },
  {
   "cell_type": "code",
   "execution_count": 11,
   "metadata": {},
   "outputs": [
    {
     "data": {
      "image/png": "[encoded data removed]",
      "text/plain": [
       "<Figure size 864x864 with 1 Axes>"
      ]
     },
     "metadata": {
      "needs_background": "light"
     },
     "output_type": "display_data"
    },
    {
     "name": "stdout",
     "output_type": "stream",
     "text": [
      "N*: 5\n",
      "Highest R^2 CV: 0.8716\n"
     ]
    }
   ],
   "source": [
    "# plot results\n",
    "n = range(1,len(fs_cols)+1)\n",
    "plt.figure(figsize=(12,12))\n",
    "plt.plot(n, r2_master, color='darkblue', label='R^2')\n",
    "plt.plot(n, r2_adj_master, color='cornflowerblue', label='R^2 Adjusted')\n",
    "plt.plot(n, r2_cv_master, color='skyblue', label='R^2 CV')\n",
    "plt.xlabel(\"N\", size='14')\n",
    "plt.title(\"N* vs R^2, R^2 Adj, R^2 CV using Adam Optimizer\", size='16')\n",
    "plt.legend(loc='lower right')\n",
    "plt.show()\n",
    "\n",
    "# calculate n*\n",
    "highest_index = 0\n",
    "highest_value = 0\n",
    "for i in range(len(r2_cv_master)):\n",
    "    if r2_cv_master[i] > highest_value:\n",
    "        highest_value = r2_cv_master[i]\n",
    "        highest_index = i+1\n",
    "print(\"N*:\", highest_index)\n",
    "print(\"Highest R^2 CV: {:0.4f}\".format(highest_value))"
   ]
  },
  {
   "cell_type": "code",
   "execution_count": 12,
   "metadata": {},
   "outputs": [
    {
     "name": "stdout",
     "output_type": "stream",
     "text": [
      "Number of features: 1 - R^2: -0.0000 R^2 Adj: -0.0026 R^2 CV: 0.4020\n",
      "Number of features: 2 - R^2: 0.8458 R^2 Adj: 0.8450 R^2 CV: 0.8243\n",
      "Number of features: 3 - R^2: 0.8780 R^2 Adj: 0.8771 R^2 CV: 0.8574\n",
      "Number of features: 4 - R^2: 0.8786 R^2 Adj: 0.8774 R^2 CV: 0.8667\n",
      "Number of features: 5 - R^2: 0.8802 R^2 Adj: 0.8787 R^2 CV: 0.8716\n",
      "Number of features: 6 - R^2: 0.8792 R^2 Adj: 0.8773 R^2 CV: 0.8690\n",
      "Number of features: 7 - R^2: 0.8929 R^2 Adj: 0.8909 R^2 CV: 0.8583\n"
     ]
    }
   ],
   "source": [
    "# Print outs for summary\n",
    "for i in range(len(r2_master)):\n",
    "    print(\"Number of features:\", i+1, end=\" - \")\n",
    "    print(\"R^2: {:0.4f}\".format(r2_master[i]), end=\" \")\n",
    "    print(\"R^2 Adj: {:0.4f}\".format(r2_adj_master[i]), end=\" \")\n",
    "    print(\"R^2 CV: {:0.4f}\".format(r2_cv_master[i]))\n",
    "    \n",
    "    "
   ]
  },
  {
   "cell_type": "code",
   "execution_count": null,
   "metadata": {},
   "outputs": [],
   "source": []
  }
 ],
 "metadata": {
  "kernelspec": {
   "display_name": "Python 3",
   "language": "python",
   "name": "python3"
  },
  "language_info": {
   "codemirror_mode": {
    "name": "ipython",
    "version": 3
   },
   "file_extension": ".py",
   "mimetype": "text/x-python",
   "name": "python",
   "nbconvert_exporter": "python",
   "pygments_lexer": "ipython3",
   "version": "3.7.6"
  }
 },
 "nbformat": 4,
 "nbformat_minor": 4
}
